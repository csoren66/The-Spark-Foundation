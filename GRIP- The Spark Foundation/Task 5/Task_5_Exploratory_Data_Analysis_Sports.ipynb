{
  "cells": [
    {
      "cell_type": "markdown",
      "source": [
        "<h1><center>The Sparks Foundation</center></h1>\n",
        "<h3>TASK 5 - Exploratory Data Analysis- Sports</h3>"
      ],
      "metadata": {
        "id": "sNHJbjBlnH2e"
      },
      "id": "sNHJbjBlnH2e"
    },
    {
      "cell_type": "markdown",
      "id": "58ae7104",
      "metadata": {
        "id": "58ae7104"
      },
      "source": [
        "Perform **'Exploratory data Analysis'** on dataset **'Indian Premier League'**. As a Sports Analyst, Find out the most succsessful teams, players and factors contributing win or loss of a team. Suggest teams or players a company should endorse for its products\n",
        "\n",
        "* Dataset:- https://bit.ly/34SRn3b"
      ]
    },
    {
      "cell_type": "markdown",
      "source": [
        "<h3><b>Author - Chandan Soren </b></h3>"
      ],
      "metadata": {
        "id": "uOTeMgYNnUes"
      },
      "id": "uOTeMgYNnUes"
    },
    {
      "cell_type": "markdown",
      "id": "8a52430e",
      "metadata": {
        "id": "8a52430e"
      },
      "source": [
        "## Import libraries"
      ]
    },
    {
      "cell_type": "code",
      "execution_count": 1,
      "id": "da5492fe",
      "metadata": {
        "id": "da5492fe"
      },
      "outputs": [],
      "source": [
        "import numpy as np\n",
        "import pandas as pd\n",
        "import matplotlib.pyplot as plt\n",
        "import seaborn as sns\n",
        "%matplotlib inline\n",
        "import warnings\n",
        "warnings.filterwarnings('ignore')\n"
      ]
    },
    {
      "cell_type": "markdown",
      "id": "1248a937",
      "metadata": {
        "id": "1248a937"
      },
      "source": [
        "## Import dataset"
      ]
    },
    {
      "cell_type": "code",
      "execution_count": 2,
      "id": "416a9b3b",
      "metadata": {
        "id": "416a9b3b"
      },
      "outputs": [],
      "source": [
        "match_df = pd.read_csv(\"/content/matches.csv\")\n",
        "score_df = pd.read_csv(\"/content/deliveries.csv\")"
      ]
    },
    {
      "cell_type": "code",
      "execution_count": 3,
      "id": "562094dc",
      "metadata": {
        "colab": {
          "base_uri": "https://localhost:8080/",
          "height": 496
        },
        "id": "562094dc",
        "outputId": "fd1e4247-f2e4-45d6-865c-e18d78b007e3"
      },
      "outputs": [
        {
          "output_type": "execute_result",
          "data": {
            "text/plain": [
              "   id  season       city        date                        team1  \\\n",
              "0   1    2017  Hyderabad  2017-04-05          Sunrisers Hyderabad   \n",
              "1   2    2017       Pune  2017-04-06               Mumbai Indians   \n",
              "2   3    2017     Rajkot  2017-04-07                Gujarat Lions   \n",
              "3   4    2017     Indore  2017-04-08       Rising Pune Supergiant   \n",
              "4   5    2017  Bangalore  2017-04-08  Royal Challengers Bangalore   \n",
              "\n",
              "                         team2                  toss_winner toss_decision  \\\n",
              "0  Royal Challengers Bangalore  Royal Challengers Bangalore         field   \n",
              "1       Rising Pune Supergiant       Rising Pune Supergiant         field   \n",
              "2        Kolkata Knight Riders        Kolkata Knight Riders         field   \n",
              "3              Kings XI Punjab              Kings XI Punjab         field   \n",
              "4             Delhi Daredevils  Royal Challengers Bangalore           bat   \n",
              "\n",
              "   result  dl_applied                       winner  win_by_runs  \\\n",
              "0  normal           0          Sunrisers Hyderabad           35   \n",
              "1  normal           0       Rising Pune Supergiant            0   \n",
              "2  normal           0        Kolkata Knight Riders            0   \n",
              "3  normal           0              Kings XI Punjab            0   \n",
              "4  normal           0  Royal Challengers Bangalore           15   \n",
              "\n",
              "   win_by_wickets player_of_match                                      venue  \\\n",
              "0               0    Yuvraj Singh  Rajiv Gandhi International Stadium, Uppal   \n",
              "1               7       SPD Smith    Maharashtra Cricket Association Stadium   \n",
              "2              10         CA Lynn     Saurashtra Cricket Association Stadium   \n",
              "3               6      GJ Maxwell                     Holkar Cricket Stadium   \n",
              "4               0       KM Jadhav                      M Chinnaswamy Stadium   \n",
              "\n",
              "          umpire1        umpire2 umpire3  \n",
              "0     AY Dandekar       NJ Llong     NaN  \n",
              "1  A Nand Kishore         S Ravi     NaN  \n",
              "2     Nitin Menon      CK Nandan     NaN  \n",
              "3    AK Chaudhary  C Shamshuddin     NaN  \n",
              "4             NaN            NaN     NaN  "
            ],
            "text/html": [
              "\n",
              "  <div id=\"df-8a3b07e6-f738-48a6-a2cb-5c7543ab356d\">\n",
              "    <div class=\"colab-df-container\">\n",
              "      <div>\n",
              "<style scoped>\n",
              "    .dataframe tbody tr th:only-of-type {\n",
              "        vertical-align: middle;\n",
              "    }\n",
              "\n",
              "    .dataframe tbody tr th {\n",
              "        vertical-align: top;\n",
              "    }\n",
              "\n",
              "    .dataframe thead th {\n",
              "        text-align: right;\n",
              "    }\n",
              "</style>\n",
              "<table border=\"1\" class=\"dataframe\">\n",
              "  <thead>\n",
              "    <tr style=\"text-align: right;\">\n",
              "      <th></th>\n",
              "      <th>id</th>\n",
              "      <th>season</th>\n",
              "      <th>city</th>\n",
              "      <th>date</th>\n",
              "      <th>team1</th>\n",
              "      <th>team2</th>\n",
              "      <th>toss_winner</th>\n",
              "      <th>toss_decision</th>\n",
              "      <th>result</th>\n",
              "      <th>dl_applied</th>\n",
              "      <th>winner</th>\n",
              "      <th>win_by_runs</th>\n",
              "      <th>win_by_wickets</th>\n",
              "      <th>player_of_match</th>\n",
              "      <th>venue</th>\n",
              "      <th>umpire1</th>\n",
              "      <th>umpire2</th>\n",
              "      <th>umpire3</th>\n",
              "    </tr>\n",
              "  </thead>\n",
              "  <tbody>\n",
              "    <tr>\n",
              "      <th>0</th>\n",
              "      <td>1</td>\n",
              "      <td>2017</td>\n",
              "      <td>Hyderabad</td>\n",
              "      <td>2017-04-05</td>\n",
              "      <td>Sunrisers Hyderabad</td>\n",
              "      <td>Royal Challengers Bangalore</td>\n",
              "      <td>Royal Challengers Bangalore</td>\n",
              "      <td>field</td>\n",
              "      <td>normal</td>\n",
              "      <td>0</td>\n",
              "      <td>Sunrisers Hyderabad</td>\n",
              "      <td>35</td>\n",
              "      <td>0</td>\n",
              "      <td>Yuvraj Singh</td>\n",
              "      <td>Rajiv Gandhi International Stadium, Uppal</td>\n",
              "      <td>AY Dandekar</td>\n",
              "      <td>NJ Llong</td>\n",
              "      <td>NaN</td>\n",
              "    </tr>\n",
              "    <tr>\n",
              "      <th>1</th>\n",
              "      <td>2</td>\n",
              "      <td>2017</td>\n",
              "      <td>Pune</td>\n",
              "      <td>2017-04-06</td>\n",
              "      <td>Mumbai Indians</td>\n",
              "      <td>Rising Pune Supergiant</td>\n",
              "      <td>Rising Pune Supergiant</td>\n",
              "      <td>field</td>\n",
              "      <td>normal</td>\n",
              "      <td>0</td>\n",
              "      <td>Rising Pune Supergiant</td>\n",
              "      <td>0</td>\n",
              "      <td>7</td>\n",
              "      <td>SPD Smith</td>\n",
              "      <td>Maharashtra Cricket Association Stadium</td>\n",
              "      <td>A Nand Kishore</td>\n",
              "      <td>S Ravi</td>\n",
              "      <td>NaN</td>\n",
              "    </tr>\n",
              "    <tr>\n",
              "      <th>2</th>\n",
              "      <td>3</td>\n",
              "      <td>2017</td>\n",
              "      <td>Rajkot</td>\n",
              "      <td>2017-04-07</td>\n",
              "      <td>Gujarat Lions</td>\n",
              "      <td>Kolkata Knight Riders</td>\n",
              "      <td>Kolkata Knight Riders</td>\n",
              "      <td>field</td>\n",
              "      <td>normal</td>\n",
              "      <td>0</td>\n",
              "      <td>Kolkata Knight Riders</td>\n",
              "      <td>0</td>\n",
              "      <td>10</td>\n",
              "      <td>CA Lynn</td>\n",
              "      <td>Saurashtra Cricket Association Stadium</td>\n",
              "      <td>Nitin Menon</td>\n",
              "      <td>CK Nandan</td>\n",
              "      <td>NaN</td>\n",
              "    </tr>\n",
              "    <tr>\n",
              "      <th>3</th>\n",
              "      <td>4</td>\n",
              "      <td>2017</td>\n",
              "      <td>Indore</td>\n",
              "      <td>2017-04-08</td>\n",
              "      <td>Rising Pune Supergiant</td>\n",
              "      <td>Kings XI Punjab</td>\n",
              "      <td>Kings XI Punjab</td>\n",
              "      <td>field</td>\n",
              "      <td>normal</td>\n",
              "      <td>0</td>\n",
              "      <td>Kings XI Punjab</td>\n",
              "      <td>0</td>\n",
              "      <td>6</td>\n",
              "      <td>GJ Maxwell</td>\n",
              "      <td>Holkar Cricket Stadium</td>\n",
              "      <td>AK Chaudhary</td>\n",
              "      <td>C Shamshuddin</td>\n",
              "      <td>NaN</td>\n",
              "    </tr>\n",
              "    <tr>\n",
              "      <th>4</th>\n",
              "      <td>5</td>\n",
              "      <td>2017</td>\n",
              "      <td>Bangalore</td>\n",
              "      <td>2017-04-08</td>\n",
              "      <td>Royal Challengers Bangalore</td>\n",
              "      <td>Delhi Daredevils</td>\n",
              "      <td>Royal Challengers Bangalore</td>\n",
              "      <td>bat</td>\n",
              "      <td>normal</td>\n",
              "      <td>0</td>\n",
              "      <td>Royal Challengers Bangalore</td>\n",
              "      <td>15</td>\n",
              "      <td>0</td>\n",
              "      <td>KM Jadhav</td>\n",
              "      <td>M Chinnaswamy Stadium</td>\n",
              "      <td>NaN</td>\n",
              "      <td>NaN</td>\n",
              "      <td>NaN</td>\n",
              "    </tr>\n",
              "  </tbody>\n",
              "</table>\n",
              "</div>\n",
              "      <button class=\"colab-df-convert\" onclick=\"convertToInteractive('df-8a3b07e6-f738-48a6-a2cb-5c7543ab356d')\"\n",
              "              title=\"Convert this dataframe to an interactive table.\"\n",
              "              style=\"display:none;\">\n",
              "        \n",
              "  <svg xmlns=\"http://www.w3.org/2000/svg\" height=\"24px\"viewBox=\"0 0 24 24\"\n",
              "       width=\"24px\">\n",
              "    <path d=\"M0 0h24v24H0V0z\" fill=\"none\"/>\n",
              "    <path d=\"M18.56 5.44l.94 2.06.94-2.06 2.06-.94-2.06-.94-.94-2.06-.94 2.06-2.06.94zm-11 1L8.5 8.5l.94-2.06 2.06-.94-2.06-.94L8.5 2.5l-.94 2.06-2.06.94zm10 10l.94 2.06.94-2.06 2.06-.94-2.06-.94-.94-2.06-.94 2.06-2.06.94z\"/><path d=\"M17.41 7.96l-1.37-1.37c-.4-.4-.92-.59-1.43-.59-.52 0-1.04.2-1.43.59L10.3 9.45l-7.72 7.72c-.78.78-.78 2.05 0 2.83L4 21.41c.39.39.9.59 1.41.59.51 0 1.02-.2 1.41-.59l7.78-7.78 2.81-2.81c.8-.78.8-2.07 0-2.86zM5.41 20L4 18.59l7.72-7.72 1.47 1.35L5.41 20z\"/>\n",
              "  </svg>\n",
              "      </button>\n",
              "      \n",
              "  <style>\n",
              "    .colab-df-container {\n",
              "      display:flex;\n",
              "      flex-wrap:wrap;\n",
              "      gap: 12px;\n",
              "    }\n",
              "\n",
              "    .colab-df-convert {\n",
              "      background-color: #E8F0FE;\n",
              "      border: none;\n",
              "      border-radius: 50%;\n",
              "      cursor: pointer;\n",
              "      display: none;\n",
              "      fill: #1967D2;\n",
              "      height: 32px;\n",
              "      padding: 0 0 0 0;\n",
              "      width: 32px;\n",
              "    }\n",
              "\n",
              "    .colab-df-convert:hover {\n",
              "      background-color: #E2EBFA;\n",
              "      box-shadow: 0px 1px 2px rgba(60, 64, 67, 0.3), 0px 1px 3px 1px rgba(60, 64, 67, 0.15);\n",
              "      fill: #174EA6;\n",
              "    }\n",
              "\n",
              "    [theme=dark] .colab-df-convert {\n",
              "      background-color: #3B4455;\n",
              "      fill: #D2E3FC;\n",
              "    }\n",
              "\n",
              "    [theme=dark] .colab-df-convert:hover {\n",
              "      background-color: #434B5C;\n",
              "      box-shadow: 0px 1px 3px 1px rgba(0, 0, 0, 0.15);\n",
              "      filter: drop-shadow(0px 1px 2px rgba(0, 0, 0, 0.3));\n",
              "      fill: #FFFFFF;\n",
              "    }\n",
              "  </style>\n",
              "\n",
              "      <script>\n",
              "        const buttonEl =\n",
              "          document.querySelector('#df-8a3b07e6-f738-48a6-a2cb-5c7543ab356d button.colab-df-convert');\n",
              "        buttonEl.style.display =\n",
              "          google.colab.kernel.accessAllowed ? 'block' : 'none';\n",
              "\n",
              "        async function convertToInteractive(key) {\n",
              "          const element = document.querySelector('#df-8a3b07e6-f738-48a6-a2cb-5c7543ab356d');\n",
              "          const dataTable =\n",
              "            await google.colab.kernel.invokeFunction('convertToInteractive',\n",
              "                                                     [key], {});\n",
              "          if (!dataTable) return;\n",
              "\n",
              "          const docLinkHtml = 'Like what you see? Visit the ' +\n",
              "            '<a target=\"_blank\" href=https://colab.research.google.com/notebooks/data_table.ipynb>data table notebook</a>'\n",
              "            + ' to learn more about interactive tables.';\n",
              "          element.innerHTML = '';\n",
              "          dataTable['output_type'] = 'display_data';\n",
              "          await google.colab.output.renderOutput(dataTable, element);\n",
              "          const docLink = document.createElement('div');\n",
              "          docLink.innerHTML = docLinkHtml;\n",
              "          element.appendChild(docLink);\n",
              "        }\n",
              "      </script>\n",
              "    </div>\n",
              "  </div>\n",
              "  "
            ]
          },
          "metadata": {},
          "execution_count": 3
        }
      ],
      "source": [
        "match_df.head()"
      ]
    },
    {
      "cell_type": "markdown",
      "id": "f4c59b24",
      "metadata": {
        "id": "f4c59b24"
      },
      "source": [
        "## Exploring datasets"
      ]
    },
    {
      "cell_type": "code",
      "execution_count": 4,
      "id": "40f3c2a1",
      "metadata": {
        "colab": {
          "base_uri": "https://localhost:8080/"
        },
        "id": "40f3c2a1",
        "outputId": "f913d412-6f19-406d-e67e-667d2d57efae"
      },
      "outputs": [
        {
          "output_type": "stream",
          "name": "stdout",
          "text": [
            "Number of matches played so far :  756\n",
            "Number of seasons :  12\n"
          ]
        }
      ],
      "source": [
        "print(\"Number of matches played so far : \", match_df.shape[0])\n",
        "print(\"Number of seasons : \", len(match_df.season.unique()))"
      ]
    },
    {
      "cell_type": "code",
      "execution_count": 5,
      "id": "214e3e5e",
      "metadata": {
        "colab": {
          "base_uri": "https://localhost:8080/"
        },
        "id": "214e3e5e",
        "outputId": "388499a2-2e22-4d02-fff0-9ab4192dc16b"
      },
      "outputs": [
        {
          "output_type": "stream",
          "name": "stdout",
          "text": [
            "<class 'pandas.core.frame.DataFrame'>\n",
            "RangeIndex: 756 entries, 0 to 755\n",
            "Data columns (total 18 columns):\n",
            " #   Column           Non-Null Count  Dtype \n",
            "---  ------           --------------  ----- \n",
            " 0   id               756 non-null    int64 \n",
            " 1   season           756 non-null    int64 \n",
            " 2   city             749 non-null    object\n",
            " 3   date             756 non-null    object\n",
            " 4   team1            756 non-null    object\n",
            " 5   team2            756 non-null    object\n",
            " 6   toss_winner      756 non-null    object\n",
            " 7   toss_decision    756 non-null    object\n",
            " 8   result           756 non-null    object\n",
            " 9   dl_applied       756 non-null    int64 \n",
            " 10  winner           752 non-null    object\n",
            " 11  win_by_runs      756 non-null    int64 \n",
            " 12  win_by_wickets   756 non-null    int64 \n",
            " 13  player_of_match  752 non-null    object\n",
            " 14  venue            756 non-null    object\n",
            " 15  umpire1          754 non-null    object\n",
            " 16  umpire2          754 non-null    object\n",
            " 17  umpire3          119 non-null    object\n",
            "dtypes: int64(5), object(13)\n",
            "memory usage: 106.4+ KB\n",
            "None\n"
          ]
        }
      ],
      "source": [
        "# check summaries of dataset\n",
        "print(match_df.info())"
      ]
    },
    {
      "cell_type": "code",
      "execution_count": 6,
      "id": "4cbe2ec9",
      "metadata": {
        "colab": {
          "base_uri": "https://localhost:8080/"
        },
        "id": "4cbe2ec9",
        "outputId": "9de05876-0737-4dea-898c-8cf22b6e32a8"
      },
      "outputs": [
        {
          "output_type": "stream",
          "name": "stdout",
          "text": [
            "(756, 18)\n"
          ]
        }
      ],
      "source": [
        "print(match_df.shape)"
      ]
    },
    {
      "cell_type": "code",
      "execution_count": 7,
      "id": "7ff0323a",
      "metadata": {
        "colab": {
          "base_uri": "https://localhost:8080/"
        },
        "id": "7ff0323a",
        "outputId": "f7f5c489-c5d3-4071-896a-fc78b53cccf9"
      },
      "outputs": [
        {
          "output_type": "execute_result",
          "data": {
            "text/plain": [
              "id                   0\n",
              "season               0\n",
              "city                 7\n",
              "date                 0\n",
              "team1                0\n",
              "team2                0\n",
              "toss_winner          0\n",
              "toss_decision        0\n",
              "result               0\n",
              "dl_applied           0\n",
              "winner               4\n",
              "win_by_runs          0\n",
              "win_by_wickets       0\n",
              "player_of_match      4\n",
              "venue                0\n",
              "umpire1              2\n",
              "umpire2              2\n",
              "umpire3            637\n",
              "dtype: int64"
            ]
          },
          "metadata": {},
          "execution_count": 7
        }
      ],
      "source": [
        "# check null vales of dataset\n",
        "match_df.isnull().sum()"
      ]
    },
    {
      "cell_type": "markdown",
      "id": "55980e27",
      "metadata": {
        "id": "55980e27"
      },
      "source": [
        "Null values present in Matches Dataset "
      ]
    },
    {
      "cell_type": "code",
      "execution_count": 8,
      "id": "aeaf8e89",
      "metadata": {
        "colab": {
          "base_uri": "https://localhost:8080/",
          "height": 300
        },
        "id": "aeaf8e89",
        "outputId": "8232e70c-04c9-4a59-ab5e-d410c390636e"
      },
      "outputs": [
        {
          "output_type": "execute_result",
          "data": {
            "text/plain": [
              "                 id       season  dl_applied  win_by_runs  win_by_wickets\n",
              "count    756.000000   756.000000  756.000000   756.000000      756.000000\n",
              "mean    1792.178571  2013.444444    0.025132    13.283069        3.350529\n",
              "std     3464.478148     3.366895    0.156630    23.471144        3.387963\n",
              "min        1.000000  2008.000000    0.000000     0.000000        0.000000\n",
              "25%      189.750000  2011.000000    0.000000     0.000000        0.000000\n",
              "50%      378.500000  2013.000000    0.000000     0.000000        4.000000\n",
              "75%      567.250000  2016.000000    0.000000    19.000000        6.000000\n",
              "max    11415.000000  2019.000000    1.000000   146.000000       10.000000"
            ],
            "text/html": [
              "\n",
              "  <div id=\"df-8648e7b5-48a2-4413-8898-f28c9df860c8\">\n",
              "    <div class=\"colab-df-container\">\n",
              "      <div>\n",
              "<style scoped>\n",
              "    .dataframe tbody tr th:only-of-type {\n",
              "        vertical-align: middle;\n",
              "    }\n",
              "\n",
              "    .dataframe tbody tr th {\n",
              "        vertical-align: top;\n",
              "    }\n",
              "\n",
              "    .dataframe thead th {\n",
              "        text-align: right;\n",
              "    }\n",
              "</style>\n",
              "<table border=\"1\" class=\"dataframe\">\n",
              "  <thead>\n",
              "    <tr style=\"text-align: right;\">\n",
              "      <th></th>\n",
              "      <th>id</th>\n",
              "      <th>season</th>\n",
              "      <th>dl_applied</th>\n",
              "      <th>win_by_runs</th>\n",
              "      <th>win_by_wickets</th>\n",
              "    </tr>\n",
              "  </thead>\n",
              "  <tbody>\n",
              "    <tr>\n",
              "      <th>count</th>\n",
              "      <td>756.000000</td>\n",
              "      <td>756.000000</td>\n",
              "      <td>756.000000</td>\n",
              "      <td>756.000000</td>\n",
              "      <td>756.000000</td>\n",
              "    </tr>\n",
              "    <tr>\n",
              "      <th>mean</th>\n",
              "      <td>1792.178571</td>\n",
              "      <td>2013.444444</td>\n",
              "      <td>0.025132</td>\n",
              "      <td>13.283069</td>\n",
              "      <td>3.350529</td>\n",
              "    </tr>\n",
              "    <tr>\n",
              "      <th>std</th>\n",
              "      <td>3464.478148</td>\n",
              "      <td>3.366895</td>\n",
              "      <td>0.156630</td>\n",
              "      <td>23.471144</td>\n",
              "      <td>3.387963</td>\n",
              "    </tr>\n",
              "    <tr>\n",
              "      <th>min</th>\n",
              "      <td>1.000000</td>\n",
              "      <td>2008.000000</td>\n",
              "      <td>0.000000</td>\n",
              "      <td>0.000000</td>\n",
              "      <td>0.000000</td>\n",
              "    </tr>\n",
              "    <tr>\n",
              "      <th>25%</th>\n",
              "      <td>189.750000</td>\n",
              "      <td>2011.000000</td>\n",
              "      <td>0.000000</td>\n",
              "      <td>0.000000</td>\n",
              "      <td>0.000000</td>\n",
              "    </tr>\n",
              "    <tr>\n",
              "      <th>50%</th>\n",
              "      <td>378.500000</td>\n",
              "      <td>2013.000000</td>\n",
              "      <td>0.000000</td>\n",
              "      <td>0.000000</td>\n",
              "      <td>4.000000</td>\n",
              "    </tr>\n",
              "    <tr>\n",
              "      <th>75%</th>\n",
              "      <td>567.250000</td>\n",
              "      <td>2016.000000</td>\n",
              "      <td>0.000000</td>\n",
              "      <td>19.000000</td>\n",
              "      <td>6.000000</td>\n",
              "    </tr>\n",
              "    <tr>\n",
              "      <th>max</th>\n",
              "      <td>11415.000000</td>\n",
              "      <td>2019.000000</td>\n",
              "      <td>1.000000</td>\n",
              "      <td>146.000000</td>\n",
              "      <td>10.000000</td>\n",
              "    </tr>\n",
              "  </tbody>\n",
              "</table>\n",
              "</div>\n",
              "      <button class=\"colab-df-convert\" onclick=\"convertToInteractive('df-8648e7b5-48a2-4413-8898-f28c9df860c8')\"\n",
              "              title=\"Convert this dataframe to an interactive table.\"\n",
              "              style=\"display:none;\">\n",
              "        \n",
              "  <svg xmlns=\"http://www.w3.org/2000/svg\" height=\"24px\"viewBox=\"0 0 24 24\"\n",
              "       width=\"24px\">\n",
              "    <path d=\"M0 0h24v24H0V0z\" fill=\"none\"/>\n",
              "    <path d=\"M18.56 5.44l.94 2.06.94-2.06 2.06-.94-2.06-.94-.94-2.06-.94 2.06-2.06.94zm-11 1L8.5 8.5l.94-2.06 2.06-.94-2.06-.94L8.5 2.5l-.94 2.06-2.06.94zm10 10l.94 2.06.94-2.06 2.06-.94-2.06-.94-.94-2.06-.94 2.06-2.06.94z\"/><path d=\"M17.41 7.96l-1.37-1.37c-.4-.4-.92-.59-1.43-.59-.52 0-1.04.2-1.43.59L10.3 9.45l-7.72 7.72c-.78.78-.78 2.05 0 2.83L4 21.41c.39.39.9.59 1.41.59.51 0 1.02-.2 1.41-.59l7.78-7.78 2.81-2.81c.8-.78.8-2.07 0-2.86zM5.41 20L4 18.59l7.72-7.72 1.47 1.35L5.41 20z\"/>\n",
              "  </svg>\n",
              "      </button>\n",
              "      \n",
              "  <style>\n",
              "    .colab-df-container {\n",
              "      display:flex;\n",
              "      flex-wrap:wrap;\n",
              "      gap: 12px;\n",
              "    }\n",
              "\n",
              "    .colab-df-convert {\n",
              "      background-color: #E8F0FE;\n",
              "      border: none;\n",
              "      border-radius: 50%;\n",
              "      cursor: pointer;\n",
              "      display: none;\n",
              "      fill: #1967D2;\n",
              "      height: 32px;\n",
              "      padding: 0 0 0 0;\n",
              "      width: 32px;\n",
              "    }\n",
              "\n",
              "    .colab-df-convert:hover {\n",
              "      background-color: #E2EBFA;\n",
              "      box-shadow: 0px 1px 2px rgba(60, 64, 67, 0.3), 0px 1px 3px 1px rgba(60, 64, 67, 0.15);\n",
              "      fill: #174EA6;\n",
              "    }\n",
              "\n",
              "    [theme=dark] .colab-df-convert {\n",
              "      background-color: #3B4455;\n",
              "      fill: #D2E3FC;\n",
              "    }\n",
              "\n",
              "    [theme=dark] .colab-df-convert:hover {\n",
              "      background-color: #434B5C;\n",
              "      box-shadow: 0px 1px 3px 1px rgba(0, 0, 0, 0.15);\n",
              "      filter: drop-shadow(0px 1px 2px rgba(0, 0, 0, 0.3));\n",
              "      fill: #FFFFFF;\n",
              "    }\n",
              "  </style>\n",
              "\n",
              "      <script>\n",
              "        const buttonEl =\n",
              "          document.querySelector('#df-8648e7b5-48a2-4413-8898-f28c9df860c8 button.colab-df-convert');\n",
              "        buttonEl.style.display =\n",
              "          google.colab.kernel.accessAllowed ? 'block' : 'none';\n",
              "\n",
              "        async function convertToInteractive(key) {\n",
              "          const element = document.querySelector('#df-8648e7b5-48a2-4413-8898-f28c9df860c8');\n",
              "          const dataTable =\n",
              "            await google.colab.kernel.invokeFunction('convertToInteractive',\n",
              "                                                     [key], {});\n",
              "          if (!dataTable) return;\n",
              "\n",
              "          const docLinkHtml = 'Like what you see? Visit the ' +\n",
              "            '<a target=\"_blank\" href=https://colab.research.google.com/notebooks/data_table.ipynb>data table notebook</a>'\n",
              "            + ' to learn more about interactive tables.';\n",
              "          element.innerHTML = '';\n",
              "          dataTable['output_type'] = 'display_data';\n",
              "          await google.colab.output.renderOutput(dataTable, element);\n",
              "          const docLink = document.createElement('div');\n",
              "          docLink.innerHTML = docLinkHtml;\n",
              "          element.appendChild(docLink);\n",
              "        }\n",
              "      </script>\n",
              "    </div>\n",
              "  </div>\n",
              "  "
            ]
          },
          "metadata": {},
          "execution_count": 8
        }
      ],
      "source": [
        "# check statistical data\n",
        "match_df.describe()"
      ]
    },
    {
      "cell_type": "markdown",
      "id": "8995d539",
      "metadata": {
        "id": "8995d539"
      },
      "source": [
        "## Exploratory Data Analysis"
      ]
    },
    {
      "cell_type": "markdown",
      "id": "3a95e05c",
      "metadata": {
        "id": "3a95e05c"
      },
      "source": [
        "* Matches we have got in the dataset "
      ]
    },
    {
      "cell_type": "code",
      "execution_count": 9,
      "id": "ff3a6da6",
      "metadata": {
        "colab": {
          "base_uri": "https://localhost:8080/"
        },
        "id": "ff3a6da6",
        "outputId": "039a7891-e949-4efc-c0a6-1adbd1088d61"
      },
      "outputs": [
        {
          "output_type": "execute_result",
          "data": {
            "text/plain": [
              "11415"
            ]
          },
          "metadata": {},
          "execution_count": 9
        }
      ],
      "source": [
        "match_df['id'].max()"
      ]
    },
    {
      "cell_type": "markdown",
      "id": "ef0e48d8",
      "metadata": {
        "id": "ef0e48d8"
      },
      "source": [
        "* Seasons we have got in the dataset"
      ]
    },
    {
      "cell_type": "code",
      "execution_count": 10,
      "id": "9a1ba019",
      "metadata": {
        "colab": {
          "base_uri": "https://localhost:8080/"
        },
        "id": "9a1ba019",
        "outputId": "944ed96a-3f67-49bb-c9d0-d046744505fd"
      },
      "outputs": [
        {
          "output_type": "execute_result",
          "data": {
            "text/plain": [
              "array([2017, 2008, 2009, 2010, 2011, 2012, 2013, 2014, 2015, 2016, 2018,\n",
              "       2019])"
            ]
          },
          "metadata": {},
          "execution_count": 10
        }
      ],
      "source": [
        "match_df['season'].unique()"
      ]
    },
    {
      "cell_type": "markdown",
      "id": "2073ed65",
      "metadata": {
        "id": "2073ed65"
      },
      "source": [
        "* **Number of matches each season:**"
      ]
    },
    {
      "cell_type": "code",
      "execution_count": 11,
      "id": "93235c55",
      "metadata": {
        "colab": {
          "base_uri": "https://localhost:8080/",
          "height": 334
        },
        "id": "93235c55",
        "outputId": "a0d34c20-252a-45d4-9dc3-530c6370f38c"
      },
      "outputs": [
        {
          "output_type": "display_data",
          "data": {
            "text/plain": [
              "<Figure size 720x360 with 1 Axes>"
            ],
            "image/png": "[encoded data removed]"
          },
          "metadata": {
            "needs_background": "light"
          }
        }
      ],
      "source": [
        "plt.figure(figsize=(10,5))\n",
        "sns.countplot(x='season', data=match_df)\n",
        "plt.show()"
      ]
    },
    {
      "cell_type": "markdown",
      "id": "b85148d5",
      "metadata": {
        "id": "b85148d5"
      },
      "source": [
        "Here we can see in year **2011, 2012, 2013** has more number of matches is played. Count is more than **70** matches."
      ]
    },
    {
      "cell_type": "markdown",
      "id": "5e97cc4d",
      "metadata": {
        "id": "5e97cc4d"
      },
      "source": [
        "* **Number of wins per team**"
      ]
    },
    {
      "cell_type": "code",
      "execution_count": 12,
      "id": "34411bb3",
      "metadata": {
        "colab": {
          "base_uri": "https://localhost:8080/"
        },
        "id": "34411bb3",
        "outputId": "21edb4df-1746-4a07-8c47-3c7c8173ab88"
      },
      "outputs": [
        {
          "output_type": "execute_result",
          "data": {
            "text/plain": [
              "Mumbai Indians                 109\n",
              "Chennai Super Kings            100\n",
              "Kolkata Knight Riders           92\n",
              "Royal Challengers Bangalore     84\n",
              "Kings XI Punjab                 82\n",
              "Rajasthan Royals                75\n",
              "Delhi Daredevils                67\n",
              "Sunrisers Hyderabad             58\n",
              "Deccan Chargers                 29\n",
              "Gujarat Lions                   13\n",
              "Pune Warriors                   12\n",
              "Rising Pune Supergiant          10\n",
              "Delhi Capitals                  10\n",
              "Kochi Tuskers Kerala             6\n",
              "Rising Pune Supergiants          5\n",
              "Name: winner, dtype: int64"
            ]
          },
          "metadata": {},
          "execution_count": 12
        }
      ],
      "source": [
        "match_df.winner.value_counts()  # here we find Number of wins per team"
      ]
    },
    {
      "cell_type": "code",
      "execution_count": 13,
      "id": "8916dd11",
      "metadata": {
        "colab": {
          "base_uri": "https://localhost:8080/",
          "height": 447
        },
        "id": "8916dd11",
        "outputId": "f9efa32d-ae14-4c19-d847-7c727ecbc951"
      },
      "outputs": [
        {
          "output_type": "display_data",
          "data": {
            "text/plain": [
              "<Figure size 864x504 with 1 Axes>"
            ],
            "image/png": "[encoded data removed]"
          },
          "metadata": {
            "needs_background": "light"
          }
        }
      ],
      "source": [
        "# see visualization\n",
        "plt.figure(figsize=(12,7))\n",
        "data = match_df.winner.value_counts()  \n",
        "sns.barplot(y = data.index, x = data, orient='h')\n",
        "plt.xlabel('Winner',fontsize = 15)\n",
        "plt.ylabel('Count',fontsize = 15)\n",
        "plt.show()"
      ]
    },
    {
      "cell_type": "markdown",
      "id": "43e701e0",
      "metadata": {
        "id": "43e701e0"
      },
      "source": [
        "**\"Mumbai Indians** wins more matches followed by **Chennai Super Kings**."
      ]
    },
    {
      "cell_type": "markdown",
      "id": "207c918f",
      "metadata": {
        "id": "207c918f"
      },
      "source": [
        "* **Check champions in each season**"
      ]
    },
    {
      "cell_type": "code",
      "execution_count": 14,
      "id": "886d0eaf",
      "metadata": {
        "colab": {
          "base_uri": "https://localhost:8080/",
          "height": 426
        },
        "id": "886d0eaf",
        "outputId": "e01dcd8d-757c-4f17-b6b9-1a8dbf87f90f"
      },
      "outputs": [
        {
          "output_type": "execute_result",
          "data": {
            "text/plain": [
              "    season                 winner\n",
              "0     2017         Mumbai Indians\n",
              "1     2008       Rajasthan Royals\n",
              "2     2009        Deccan Chargers\n",
              "3     2010    Chennai Super Kings\n",
              "4     2011    Chennai Super Kings\n",
              "5     2012  Kolkata Knight Riders\n",
              "6     2013         Mumbai Indians\n",
              "7     2014  Kolkata Knight Riders\n",
              "8     2015         Mumbai Indians\n",
              "9     2016    Sunrisers Hyderabad\n",
              "10    2018    Chennai Super Kings\n",
              "11    2019         Mumbai Indians"
            ],
            "text/html": [
              "\n",
              "  <div id=\"df-a71eb655-5647-4105-b9fa-45bd80160b74\">\n",
              "    <div class=\"colab-df-container\">\n",
              "      <div>\n",
              "<style scoped>\n",
              "    .dataframe tbody tr th:only-of-type {\n",
              "        vertical-align: middle;\n",
              "    }\n",
              "\n",
              "    .dataframe tbody tr th {\n",
              "        vertical-align: top;\n",
              "    }\n",
              "\n",
              "    .dataframe thead th {\n",
              "        text-align: right;\n",
              "    }\n",
              "</style>\n",
              "<table border=\"1\" class=\"dataframe\">\n",
              "  <thead>\n",
              "    <tr style=\"text-align: right;\">\n",
              "      <th></th>\n",
              "      <th>season</th>\n",
              "      <th>winner</th>\n",
              "    </tr>\n",
              "  </thead>\n",
              "  <tbody>\n",
              "    <tr>\n",
              "      <th>0</th>\n",
              "      <td>2017</td>\n",
              "      <td>Mumbai Indians</td>\n",
              "    </tr>\n",
              "    <tr>\n",
              "      <th>1</th>\n",
              "      <td>2008</td>\n",
              "      <td>Rajasthan Royals</td>\n",
              "    </tr>\n",
              "    <tr>\n",
              "      <th>2</th>\n",
              "      <td>2009</td>\n",
              "      <td>Deccan Chargers</td>\n",
              "    </tr>\n",
              "    <tr>\n",
              "      <th>3</th>\n",
              "      <td>2010</td>\n",
              "      <td>Chennai Super Kings</td>\n",
              "    </tr>\n",
              "    <tr>\n",
              "      <th>4</th>\n",
              "      <td>2011</td>\n",
              "      <td>Chennai Super Kings</td>\n",
              "    </tr>\n",
              "    <tr>\n",
              "      <th>5</th>\n",
              "      <td>2012</td>\n",
              "      <td>Kolkata Knight Riders</td>\n",
              "    </tr>\n",
              "    <tr>\n",
              "      <th>6</th>\n",
              "      <td>2013</td>\n",
              "      <td>Mumbai Indians</td>\n",
              "    </tr>\n",
              "    <tr>\n",
              "      <th>7</th>\n",
              "      <td>2014</td>\n",
              "      <td>Kolkata Knight Riders</td>\n",
              "    </tr>\n",
              "    <tr>\n",
              "      <th>8</th>\n",
              "      <td>2015</td>\n",
              "      <td>Mumbai Indians</td>\n",
              "    </tr>\n",
              "    <tr>\n",
              "      <th>9</th>\n",
              "      <td>2016</td>\n",
              "      <td>Sunrisers Hyderabad</td>\n",
              "    </tr>\n",
              "    <tr>\n",
              "      <th>10</th>\n",
              "      <td>2018</td>\n",
              "      <td>Chennai Super Kings</td>\n",
              "    </tr>\n",
              "    <tr>\n",
              "      <th>11</th>\n",
              "      <td>2019</td>\n",
              "      <td>Mumbai Indians</td>\n",
              "    </tr>\n",
              "  </tbody>\n",
              "</table>\n",
              "</div>\n",
              "      <button class=\"colab-df-convert\" onclick=\"convertToInteractive('df-a71eb655-5647-4105-b9fa-45bd80160b74')\"\n",
              "              title=\"Convert this dataframe to an interactive table.\"\n",
              "              style=\"display:none;\">\n",
              "        \n",
              "  <svg xmlns=\"http://www.w3.org/2000/svg\" height=\"24px\"viewBox=\"0 0 24 24\"\n",
              "       width=\"24px\">\n",
              "    <path d=\"M0 0h24v24H0V0z\" fill=\"none\"/>\n",
              "    <path d=\"M18.56 5.44l.94 2.06.94-2.06 2.06-.94-2.06-.94-.94-2.06-.94 2.06-2.06.94zm-11 1L8.5 8.5l.94-2.06 2.06-.94-2.06-.94L8.5 2.5l-.94 2.06-2.06.94zm10 10l.94 2.06.94-2.06 2.06-.94-2.06-.94-.94-2.06-.94 2.06-2.06.94z\"/><path d=\"M17.41 7.96l-1.37-1.37c-.4-.4-.92-.59-1.43-.59-.52 0-1.04.2-1.43.59L10.3 9.45l-7.72 7.72c-.78.78-.78 2.05 0 2.83L4 21.41c.39.39.9.59 1.41.59.51 0 1.02-.2 1.41-.59l7.78-7.78 2.81-2.81c.8-.78.8-2.07 0-2.86zM5.41 20L4 18.59l7.72-7.72 1.47 1.35L5.41 20z\"/>\n",
              "  </svg>\n",
              "      </button>\n",
              "      \n",
              "  <style>\n",
              "    .colab-df-container {\n",
              "      display:flex;\n",
              "      flex-wrap:wrap;\n",
              "      gap: 12px;\n",
              "    }\n",
              "\n",
              "    .colab-df-convert {\n",
              "      background-color: #E8F0FE;\n",
              "      border: none;\n",
              "      border-radius: 50%;\n",
              "      cursor: pointer;\n",
              "      display: none;\n",
              "      fill: #1967D2;\n",
              "      height: 32px;\n",
              "      padding: 0 0 0 0;\n",
              "      width: 32px;\n",
              "    }\n",
              "\n",
              "    .colab-df-convert:hover {\n",
              "      background-color: #E2EBFA;\n",
              "      box-shadow: 0px 1px 2px rgba(60, 64, 67, 0.3), 0px 1px 3px 1px rgba(60, 64, 67, 0.15);\n",
              "      fill: #174EA6;\n",
              "    }\n",
              "\n",
              "    [theme=dark] .colab-df-convert {\n",
              "      background-color: #3B4455;\n",
              "      fill: #D2E3FC;\n",
              "    }\n",
              "\n",
              "    [theme=dark] .colab-df-convert:hover {\n",
              "      background-color: #434B5C;\n",
              "      box-shadow: 0px 1px 3px 1px rgba(0, 0, 0, 0.15);\n",
              "      filter: drop-shadow(0px 1px 2px rgba(0, 0, 0, 0.3));\n",
              "      fill: #FFFFFF;\n",
              "    }\n",
              "  </style>\n",
              "\n",
              "      <script>\n",
              "        const buttonEl =\n",
              "          document.querySelector('#df-a71eb655-5647-4105-b9fa-45bd80160b74 button.colab-df-convert');\n",
              "        buttonEl.style.display =\n",
              "          google.colab.kernel.accessAllowed ? 'block' : 'none';\n",
              "\n",
              "        async function convertToInteractive(key) {\n",
              "          const element = document.querySelector('#df-a71eb655-5647-4105-b9fa-45bd80160b74');\n",
              "          const dataTable =\n",
              "            await google.colab.kernel.invokeFunction('convertToInteractive',\n",
              "                                                     [key], {});\n",
              "          if (!dataTable) return;\n",
              "\n",
              "          const docLinkHtml = 'Like what you see? Visit the ' +\n",
              "            '<a target=\"_blank\" href=https://colab.research.google.com/notebooks/data_table.ipynb>data table notebook</a>'\n",
              "            + ' to learn more about interactive tables.';\n",
              "          element.innerHTML = '';\n",
              "          dataTable['output_type'] = 'display_data';\n",
              "          await google.colab.output.renderOutput(dataTable, element);\n",
              "          const docLink = document.createElement('div');\n",
              "          docLink.innerHTML = docLinkHtml;\n",
              "          element.appendChild(docLink);\n",
              "        }\n",
              "      </script>\n",
              "    </div>\n",
              "  </div>\n",
              "  "
            ]
          },
          "metadata": {},
          "execution_count": 14
        }
      ],
      "source": [
        "match_df.drop_duplicates(subset=['season'], keep='last')[['season', 'winner']].reset_index(drop=True)\n"
      ]
    },
    {
      "cell_type": "markdown",
      "id": "6b13dda9",
      "metadata": {
        "id": "6b13dda9"
      },
      "source": [
        "* **Check which stadium more matches are played**"
      ]
    },
    {
      "cell_type": "code",
      "execution_count": 15,
      "id": "5b5746a5",
      "metadata": {
        "colab": {
          "base_uri": "https://localhost:8080/",
          "height": 903
        },
        "id": "5b5746a5",
        "outputId": "da17b729-3878-4f91-f8ca-b24360adc109"
      },
      "outputs": [
        {
          "output_type": "display_data",
          "data": {
            "text/plain": [
              "<Figure size 720x1080 with 1 Axes>"
            ],
            "image/png": "[encoded data removed]"
          },
          "metadata": {
            "needs_background": "light"
          }
        }
      ],
      "source": [
        "plt.subplots(figsize=(10,15))\n",
        "\n",
        "sns.countplot(y ='venue',data=match_df,order=match_df['venue'].value_counts().index)\n",
        "\n",
        "plt.title('Indian Premier League Venue',fontsize=20)\n",
        "plt.xlabel('Matches',fontsize=15)\n",
        "plt.ylabel('Stadium',fontsize=15)\n",
        "plt.yticks(rotation=0,fontsize=10)\n",
        "plt.show()"
      ]
    },
    {
      "cell_type": "markdown",
      "id": "3088015b",
      "metadata": {
        "id": "3088015b"
      },
      "source": [
        "**Eden Gardens** Stadium more matches played "
      ]
    },
    {
      "cell_type": "markdown",
      "id": "65cae612",
      "metadata": {
        "id": "65cae612"
      },
      "source": [
        "## Toss decision check"
      ]
    },
    {
      "cell_type": "code",
      "execution_count": 16,
      "id": "f714e4bf",
      "metadata": {
        "colab": {
          "base_uri": "https://localhost:8080/",
          "height": 375
        },
        "id": "f714e4bf",
        "outputId": "6e6f2a46-0932-4746-8844-235d57e276a4"
      },
      "outputs": [
        {
          "output_type": "display_data",
          "data": {
            "text/plain": [
              "<Figure size 864x432 with 1 Axes>"
            ],
            "image/png": "[encoded data removed]"
          },
          "metadata": {}
        }
      ],
      "source": [
        "temp_series = match_df.toss_decision.value_counts()   # Assign temperory variable \n",
        "\n",
        "labels = (np.array(temp_series.index))   # find index names\n",
        "\n",
        "sizes = (np.array((temp_series / temp_series.sum())*100))  \n",
        "explode = (0, 0.1)\n",
        "\n",
        "colors = ['orange', 'lightskyblue']\n",
        "plt.figure(figsize=(12,6))\n",
        "plt.pie(sizes, labels=labels, explode=explode, colors=colors, autopct='%1.1f%%', shadow=True, startangle=90)\n",
        "plt.title(\"Toss decision percentage\", fontsize = 15)\n",
        "\n",
        "plt.show()"
      ]
    },
    {
      "cell_type": "markdown",
      "id": "f74b5080",
      "metadata": {
        "id": "f74b5080"
      },
      "source": [
        "Above pie chart shows 61.2% toss decision get field first"
      ]
    },
    {
      "cell_type": "markdown",
      "id": "900eefb0",
      "metadata": {
        "id": "900eefb0"
      },
      "source": [
        "* By the use of countplot check field and batting by toss\n"
      ]
    },
    {
      "cell_type": "code",
      "execution_count": 17,
      "id": "9aa913cf",
      "metadata": {
        "colab": {
          "base_uri": "https://localhost:8080/",
          "height": 393
        },
        "id": "9aa913cf",
        "outputId": "f4a77f45-3ac6-4085-ddd1-73a899981440"
      },
      "outputs": [
        {
          "output_type": "display_data",
          "data": {
            "text/plain": [
              "<Figure size 864x432 with 1 Axes>"
            ],
            "image/png": "[encoded data removed]"
          },
          "metadata": {
            "needs_background": "light"
          }
        }
      ],
      "source": [
        "plt.figure(figsize=(12,6))\n",
        "sns.countplot(x='season', hue='toss_decision', data=match_df, palette='CMRmap')\n",
        "plt.xlabel(\"season\", fontsize=15)\n",
        "plt.ylabel(\"Count\", fontsize=15)\n",
        "\n",
        "plt.show()"
      ]
    },
    {
      "cell_type": "markdown",
      "id": "74a2315f",
      "metadata": {
        "id": "74a2315f"
      },
      "source": [
        "Here we can see after the toss decision most of the time field get first then Batting"
      ]
    },
    {
      "cell_type": "markdown",
      "id": "cb1f0913",
      "metadata": {
        "id": "cb1f0913"
      },
      "source": [
        "* **Now we can check win % of batting second**. "
      ]
    },
    {
      "cell_type": "code",
      "execution_count": 18,
      "id": "03d9147f",
      "metadata": {
        "colab": {
          "base_uri": "https://localhost:8080/",
          "height": 375
        },
        "id": "03d9147f",
        "outputId": "b6352e64-bb3e-4071-8a0d-8126e9ed5224"
      },
      "outputs": [
        {
          "output_type": "display_data",
          "data": {
            "text/plain": [
              "<Figure size 864x432 with 1 Axes>"
            ],
            "image/png": "[encoded data removed]"
          },
          "metadata": {}
        }
      ],
      "source": [
        "num_of_wins = (match_df.win_by_wickets>0).sum()               # 406  Win \n",
        "num_of_loss = (match_df.win_by_wickets==0).sum()              # 350  loss\n",
        "labels = [\"Wins\", \"Loss\"] \n",
        "total = float(num_of_wins + num_of_loss)                      #  756 total \n",
        "sizes = [(num_of_wins/total)*100, (num_of_loss/total)*100]    # [53.7%, 46.3% ]\n",
        "\n",
        "colors = ['gold', 'cyan']                                     # color selection\n",
        "explode = (0.1, 0)\n",
        "plt.figure(figsize=(12,6))\n",
        "\n",
        "# use pie plot \n",
        "plt.pie(sizes, labels=labels, explode=explode, colors=colors,autopct='%1.1f%%', shadow=True, startangle=90)\n",
        "\n",
        "plt.title(\"Win percentage batting second\", fontsize=15)\n",
        "plt.show()"
      ]
    },
    {
      "cell_type": "markdown",
      "id": "801951f2",
      "metadata": {
        "id": "801951f2"
      },
      "source": [
        "Here We can see **53.7%** of win when batting second."
      ]
    },
    {
      "cell_type": "markdown",
      "id": "4370c23a",
      "metadata": {
        "id": "4370c23a"
      },
      "source": [
        "* **Check win of batting second distributedby years.**"
      ]
    },
    {
      "cell_type": "code",
      "execution_count": 19,
      "id": "5cb51c93",
      "metadata": {
        "scrolled": true,
        "colab": {
          "base_uri": "https://localhost:8080/",
          "height": 342
        },
        "id": "5cb51c93",
        "outputId": "33aeb897-48e7-4160-9d1b-281d898188ba"
      },
      "outputs": [
        {
          "output_type": "display_data",
          "data": {
            "text/plain": [
              "<Figure size 864x360 with 1 Axes>"
            ],
            "image/png": "[encoded data removed]"
          },
          "metadata": {
            "needs_background": "light"
          }
        }
      ],
      "source": [
        "match_df[\"field_win\"] = \"win\"\n",
        "match_df[\"field_win\"].iloc[match_df['win_by_wickets']==0] = \"loss\"\n",
        "\n",
        "plt.figure(figsize=(12,5))\n",
        "sns.countplot(x='season', hue='field_win', data=match_df, palette='Dark2' )\n",
        "\n",
        "plt.xticks(rotation=0, fontsize= 12)\n",
        "plt.xlabel(\"Season\", fontsize= 15)\n",
        "plt.ylabel(\"Count\", fontsize= 15)\n",
        "\n",
        "plt.show()"
      ]
    },
    {
      "cell_type": "markdown",
      "id": "8882a2ff",
      "metadata": {
        "id": "8882a2ff"
      },
      "source": [
        "Here we can see Number of wins batting second is also high "
      ]
    },
    {
      "cell_type": "markdown",
      "id": "43aafe78",
      "metadata": {
        "id": "43aafe78"
      },
      "source": [
        "* **Now we check toss winner is match winner**"
      ]
    },
    {
      "cell_type": "code",
      "execution_count": 20,
      "id": "21a6f1ae",
      "metadata": {
        "colab": {
          "base_uri": "https://localhost:8080/",
          "height": 321
        },
        "id": "21a6f1ae",
        "outputId": "30cb1f97-0624-4952-d9ea-1ae18d071b71"
      },
      "outputs": [
        {
          "output_type": "display_data",
          "data": {
            "text/plain": [
              "<Figure size 720x360 with 1 Axes>"
            ],
            "image/png": "[encoded data removed]"
          },
          "metadata": {}
        }
      ],
      "source": [
        "match_df['toss_winner_is_winner'] = 'no'\n",
        "match_df['toss_winner_is_winner'].iloc[match_df.toss_winner == match_df.winner] = 'yes'\n",
        "\n",
        "temp_series = match_df.toss_winner_is_winner.value_counts()\n",
        "\n",
        "labels = (np.array(temp_series.index))\n",
        "sizes = (np.array((temp_series / temp_series.sum())*100))\n",
        "colors = ['orange', 'cyan']\n",
        "explode = (0.1, 0)\n",
        "plt.figure(figsize=(10,5))\n",
        "\n",
        "#use pie plot\n",
        "plt.pie(sizes, labels=labels, colors=colors, explode = explode, autopct='%1.1f%%', \n",
        "        shadow=True, startangle=90, labeldistance=1.2)\n",
        "plt.title(\"Toss winner is match winner\", fontsize=15)\n",
        "\n",
        "plt.show()"
      ]
    },
    {
      "cell_type": "markdown",
      "id": "3c647c1b",
      "metadata": {
        "id": "3c647c1b"
      },
      "source": [
        "Above pie plot shows the chance is winning of team is near about 50-50 %."
      ]
    },
    {
      "cell_type": "markdown",
      "id": "44b4e81e",
      "metadata": {
        "id": "44b4e81e"
      },
      "source": [
        "* **Check Toss winning team is a winning team or not.**"
      ]
    },
    {
      "cell_type": "code",
      "execution_count": 21,
      "id": "45df2299",
      "metadata": {
        "colab": {
          "base_uri": "https://localhost:8080/",
          "height": 581
        },
        "id": "45df2299",
        "outputId": "7d69d4b7-3902-4c77-fc03-74adc3709e22"
      },
      "outputs": [
        {
          "output_type": "display_data",
          "data": {
            "text/plain": [
              "<Figure size 1080x504 with 1 Axes>"
            ],
            "image/png": "[encoded data removed]"
          },
          "metadata": {
            "needs_background": "light"
          }
        }
      ],
      "source": [
        "plt.figure(figsize=(15,7))\n",
        "sns.countplot(x='toss_winner', hue='toss_winner_is_winner', data=match_df, palette=\"Paired_r\")\n",
        "\n",
        "plt.xticks(rotation=90, fontsize= 10 )\n",
        "plt.xlabel(\"Toss Winner team\", fontsize= 15)\n",
        "plt.ylabel(\"Count\", fontsize= 15)\n",
        "plt.show()"
      ]
    },
    {
      "cell_type": "markdown",
      "id": "e4a02a35",
      "metadata": {
        "id": "e4a02a35"
      },
      "source": [
        "Chennai Super Kings is winning toss is a indication of winning match with high probability "
      ]
    },
    {
      "cell_type": "markdown",
      "id": "06294156",
      "metadata": {
        "id": "06294156"
      },
      "source": [
        "* **Check top players of the match**"
      ]
    },
    {
      "cell_type": "code",
      "execution_count": 22,
      "id": "ed98b20c",
      "metadata": {
        "colab": {
          "base_uri": "https://localhost:8080/"
        },
        "id": "ed98b20c",
        "outputId": "c8b9d45b-2584-4a35-dd0c-7eb1c5bf476f"
      },
      "outputs": [
        {
          "output_type": "execute_result",
          "data": {
            "text/plain": [
              "CH Gayle          21\n",
              "AB de Villiers    20\n",
              "RG Sharma         17\n",
              "MS Dhoni          17\n",
              "DA Warner         17\n",
              "YK Pathan         16\n",
              "SR Watson         15\n",
              "SK Raina          14\n",
              "G Gambhir         13\n",
              "MEK Hussey        12\n",
              "Name: player_of_match, dtype: int64"
            ]
          },
          "metadata": {},
          "execution_count": 22
        }
      ],
      "source": [
        "match_df['player_of_match'].value_counts()[:10]"
      ]
    },
    {
      "cell_type": "code",
      "execution_count": 23,
      "id": "45cdbe73",
      "metadata": {
        "colab": {
          "base_uri": "https://localhost:8080/",
          "height": 468
        },
        "id": "45cdbe73",
        "outputId": "2d7b8e73-9da3-4517-ef3c-ffa733586fd2"
      },
      "outputs": [
        {
          "output_type": "display_data",
          "data": {
            "text/plain": [
              "<Figure size 864x504 with 1 Axes>"
            ],
            "image/png": "[encoded data removed]"
          },
          "metadata": {
            "needs_background": "light"
          }
        }
      ],
      "source": [
        "plt.figure(figsize=(12,7))\n",
        "sns.barplot(x= match_df['player_of_match'].value_counts()[:10].index, y = match_df['player_of_match'].value_counts()[:10])\n",
        "plt.xlabel(\"Player\", fontsize = 15)\n",
        "plt.ylabel(\"Match\", fontsize = 15)\n",
        "plt.xticks(fontsize= 10)\n",
        "plt.title(\"Top Player of the Match\", fontsize= 20)\n",
        "plt.show()"
      ]
    },
    {
      "cell_type": "markdown",
      "id": "c225cb2c",
      "metadata": {
        "id": "c225cb2c"
      },
      "source": [
        "* Above plot shows **CH Gayle** is a Top player followed by **AB de Villers**."
      ]
    },
    {
      "cell_type": "markdown",
      "id": "cd22f7b7",
      "metadata": {
        "id": "cd22f7b7"
      },
      "source": [
        "* **Top Umpires**"
      ]
    },
    {
      "cell_type": "code",
      "execution_count": 24,
      "id": "5974eb02",
      "metadata": {
        "colab": {
          "base_uri": "https://localhost:8080/",
          "height": 529
        },
        "id": "5974eb02",
        "outputId": "fa7519c9-3639-4705-ced4-2f7990468134"
      },
      "outputs": [
        {
          "output_type": "display_data",
          "data": {
            "text/plain": [
              "<Figure size 720x504 with 1 Axes>"
            ],
            "image/png": "[encoded data removed]"
          },
          "metadata": {
            "needs_background": "light"
          }
        }
      ],
      "source": [
        "temp_df = pd.melt(match_df, id_vars=['id'], value_vars=['umpire1', 'umpire2'])\n",
        "\n",
        "temp_series = temp_df.value.value_counts()[:10]\n",
        "labels = np.array(temp_series.index)\n",
        "ind = np.arange(len(labels))\n",
        "width = 0.9\n",
        "\n",
        "fig, ax = plt.subplots(figsize=(10,7))\n",
        "\n",
        "rects = ax.bar(ind, np.array(temp_series), width=width, color='g')\n",
        "\n",
        "ax.set_xticks(ind+((width)/20))\n",
        "ax.set_xticklabels(labels, rotation=90)\n",
        "ax.set_ylabel(\"Count\")\n",
        "ax.set_title(\"Top Umpires\")\n",
        "plt.show()"
      ]
    },
    {
      "cell_type": "markdown",
      "id": "2437ea48",
      "metadata": {
        "id": "2437ea48"
      },
      "source": [
        "S Ravi seems to be the most sought after umpire for IPL matches followed by HDPK Dharmasena. Others are fairly close to each other."
      ]
    },
    {
      "cell_type": "markdown",
      "id": "4eebdb78",
      "metadata": {
        "id": "4eebdb78"
      },
      "source": [
        "## Score dataset"
      ]
    },
    {
      "cell_type": "code",
      "execution_count": 25,
      "id": "987d56b4",
      "metadata": {
        "colab": {
          "base_uri": "https://localhost:8080/",
          "height": 473
        },
        "id": "987d56b4",
        "outputId": "ea3be004-3334-4c57-9722-954217255645"
      },
      "outputs": [
        {
          "output_type": "execute_result",
          "data": {
            "text/plain": [
              "   match_id  inning         batting_team                 bowling_team  over  \\\n",
              "0         1       1  Sunrisers Hyderabad  Royal Challengers Bangalore     1   \n",
              "1         1       1  Sunrisers Hyderabad  Royal Challengers Bangalore     1   \n",
              "2         1       1  Sunrisers Hyderabad  Royal Challengers Bangalore     1   \n",
              "3         1       1  Sunrisers Hyderabad  Royal Challengers Bangalore     1   \n",
              "4         1       1  Sunrisers Hyderabad  Royal Challengers Bangalore     1   \n",
              "\n",
              "   ball    batsman non_striker    bowler  is_super_over  ...  bye_runs  \\\n",
              "0     1  DA Warner    S Dhawan  TS Mills            0.0  ...       0.0   \n",
              "1     2  DA Warner    S Dhawan  TS Mills            0.0  ...       0.0   \n",
              "2     3  DA Warner    S Dhawan  TS Mills            0.0  ...       0.0   \n",
              "3     4  DA Warner    S Dhawan  TS Mills            0.0  ...       0.0   \n",
              "4     5  DA Warner    S Dhawan  TS Mills            0.0  ...       0.0   \n",
              "\n",
              "   legbye_runs  noball_runs  penalty_runs  batsman_runs  extra_runs  \\\n",
              "0          0.0          0.0           0.0           0.0         0.0   \n",
              "1          0.0          0.0           0.0           0.0         0.0   \n",
              "2          0.0          0.0           0.0           4.0         0.0   \n",
              "3          0.0          0.0           0.0           0.0         0.0   \n",
              "4          0.0          0.0           0.0           0.0         2.0   \n",
              "\n",
              "   total_runs  player_dismissed dismissal_kind fielder  \n",
              "0         0.0               NaN            NaN     NaN  \n",
              "1         0.0               NaN            NaN     NaN  \n",
              "2         4.0               NaN            NaN     NaN  \n",
              "3         0.0               NaN            NaN     NaN  \n",
              "4         2.0               NaN            NaN     NaN  \n",
              "\n",
              "[5 rows x 21 columns]"
            ],
            "text/html": [
              "\n",
              "  <div id=\"df-c2637666-4488-4e30-8f4d-47a2d12fbbf8\">\n",
              "    <div class=\"colab-df-container\">\n",
              "      <div>\n",
              "<style scoped>\n",
              "    .dataframe tbody tr th:only-of-type {\n",
              "        vertical-align: middle;\n",
              "    }\n",
              "\n",
              "    .dataframe tbody tr th {\n",
              "        vertical-align: top;\n",
              "    }\n",
              "\n",
              "    .dataframe thead th {\n",
              "        text-align: right;\n",
              "    }\n",
              "</style>\n",
              "<table border=\"1\" class=\"dataframe\">\n",
              "  <thead>\n",
              "    <tr style=\"text-align: right;\">\n",
              "      <th></th>\n",
              "      <th>match_id</th>\n",
              "      <th>inning</th>\n",
              "      <th>batting_team</th>\n",
              "      <th>bowling_team</th>\n",
              "      <th>over</th>\n",
              "      <th>ball</th>\n",
              "      <th>batsman</th>\n",
              "      <th>non_striker</th>\n",
              "      <th>bowler</th>\n",
              "      <th>is_super_over</th>\n",
              "      <th>...</th>\n",
              "      <th>bye_runs</th>\n",
              "      <th>legbye_runs</th>\n",
              "      <th>noball_runs</th>\n",
              "      <th>penalty_runs</th>\n",
              "      <th>batsman_runs</th>\n",
              "      <th>extra_runs</th>\n",
              "      <th>total_runs</th>\n",
              "      <th>player_dismissed</th>\n",
              "      <th>dismissal_kind</th>\n",
              "      <th>fielder</th>\n",
              "    </tr>\n",
              "  </thead>\n",
              "  <tbody>\n",
              "    <tr>\n",
              "      <th>0</th>\n",
              "      <td>1</td>\n",
              "      <td>1</td>\n",
              "      <td>Sunrisers Hyderabad</td>\n",
              "      <td>Royal Challengers Bangalore</td>\n",
              "      <td>1</td>\n",
              "      <td>1</td>\n",
              "      <td>DA Warner</td>\n",
              "      <td>S Dhawan</td>\n",
              "      <td>TS Mills</td>\n",
              "      <td>0.0</td>\n",
              "      <td>...</td>\n",
              "      <td>0.0</td>\n",
              "      <td>0.0</td>\n",
              "      <td>0.0</td>\n",
              "      <td>0.0</td>\n",
              "      <td>0.0</td>\n",
              "      <td>0.0</td>\n",
              "      <td>0.0</td>\n",
              "      <td>NaN</td>\n",
              "      <td>NaN</td>\n",
              "      <td>NaN</td>\n",
              "    </tr>\n",
              "    <tr>\n",
              "      <th>1</th>\n",
              "      <td>1</td>\n",
              "      <td>1</td>\n",
              "      <td>Sunrisers Hyderabad</td>\n",
              "      <td>Royal Challengers Bangalore</td>\n",
              "      <td>1</td>\n",
              "      <td>2</td>\n",
              "      <td>DA Warner</td>\n",
              "      <td>S Dhawan</td>\n",
              "      <td>TS Mills</td>\n",
              "      <td>0.0</td>\n",
              "      <td>...</td>\n",
              "      <td>0.0</td>\n",
              "      <td>0.0</td>\n",
              "      <td>0.0</td>\n",
              "      <td>0.0</td>\n",
              "      <td>0.0</td>\n",
              "      <td>0.0</td>\n",
              "      <td>0.0</td>\n",
              "      <td>NaN</td>\n",
              "      <td>NaN</td>\n",
              "      <td>NaN</td>\n",
              "    </tr>\n",
              "    <tr>\n",
              "      <th>2</th>\n",
              "      <td>1</td>\n",
              "      <td>1</td>\n",
              "      <td>Sunrisers Hyderabad</td>\n",
              "      <td>Royal Challengers Bangalore</td>\n",
              "      <td>1</td>\n",
              "      <td>3</td>\n",
              "      <td>DA Warner</td>\n",
              "      <td>S Dhawan</td>\n",
              "      <td>TS Mills</td>\n",
              "      <td>0.0</td>\n",
              "      <td>...</td>\n",
              "      <td>0.0</td>\n",
              "      <td>0.0</td>\n",
              "      <td>0.0</td>\n",
              "      <td>0.0</td>\n",
              "      <td>4.0</td>\n",
              "      <td>0.0</td>\n",
              "      <td>4.0</td>\n",
              "      <td>NaN</td>\n",
              "      <td>NaN</td>\n",
              "      <td>NaN</td>\n",
              "    </tr>\n",
              "    <tr>\n",
              "      <th>3</th>\n",
              "      <td>1</td>\n",
              "      <td>1</td>\n",
              "      <td>Sunrisers Hyderabad</td>\n",
              "      <td>Royal Challengers Bangalore</td>\n",
              "      <td>1</td>\n",
              "      <td>4</td>\n",
              "      <td>DA Warner</td>\n",
              "      <td>S Dhawan</td>\n",
              "      <td>TS Mills</td>\n",
              "      <td>0.0</td>\n",
              "      <td>...</td>\n",
              "      <td>0.0</td>\n",
              "      <td>0.0</td>\n",
              "      <td>0.0</td>\n",
              "      <td>0.0</td>\n",
              "      <td>0.0</td>\n",
              "      <td>0.0</td>\n",
              "      <td>0.0</td>\n",
              "      <td>NaN</td>\n",
              "      <td>NaN</td>\n",
              "      <td>NaN</td>\n",
              "    </tr>\n",
              "    <tr>\n",
              "      <th>4</th>\n",
              "      <td>1</td>\n",
              "      <td>1</td>\n",
              "      <td>Sunrisers Hyderabad</td>\n",
              "      <td>Royal Challengers Bangalore</td>\n",
              "      <td>1</td>\n",
              "      <td>5</td>\n",
              "      <td>DA Warner</td>\n",
              "      <td>S Dhawan</td>\n",
              "      <td>TS Mills</td>\n",
              "      <td>0.0</td>\n",
              "      <td>...</td>\n",
              "      <td>0.0</td>\n",
              "      <td>0.0</td>\n",
              "      <td>0.0</td>\n",
              "      <td>0.0</td>\n",
              "      <td>0.0</td>\n",
              "      <td>2.0</td>\n",
              "      <td>2.0</td>\n",
              "      <td>NaN</td>\n",
              "      <td>NaN</td>\n",
              "      <td>NaN</td>\n",
              "    </tr>\n",
              "  </tbody>\n",
              "</table>\n",
              "<p>5 rows × 21 columns</p>\n",
              "</div>\n",
              "      <button class=\"colab-df-convert\" onclick=\"convertToInteractive('df-c2637666-4488-4e30-8f4d-47a2d12fbbf8')\"\n",
              "              title=\"Convert this dataframe to an interactive table.\"\n",
              "              style=\"display:none;\">\n",
              "        \n",
              "  <svg xmlns=\"http://www.w3.org/2000/svg\" height=\"24px\"viewBox=\"0 0 24 24\"\n",
              "       width=\"24px\">\n",
              "    <path d=\"M0 0h24v24H0V0z\" fill=\"none\"/>\n",
              "    <path d=\"M18.56 5.44l.94 2.06.94-2.06 2.06-.94-2.06-.94-.94-2.06-.94 2.06-2.06.94zm-11 1L8.5 8.5l.94-2.06 2.06-.94-2.06-.94L8.5 2.5l-.94 2.06-2.06.94zm10 10l.94 2.06.94-2.06 2.06-.94-2.06-.94-.94-2.06-.94 2.06-2.06.94z\"/><path d=\"M17.41 7.96l-1.37-1.37c-.4-.4-.92-.59-1.43-.59-.52 0-1.04.2-1.43.59L10.3 9.45l-7.72 7.72c-.78.78-.78 2.05 0 2.83L4 21.41c.39.39.9.59 1.41.59.51 0 1.02-.2 1.41-.59l7.78-7.78 2.81-2.81c.8-.78.8-2.07 0-2.86zM5.41 20L4 18.59l7.72-7.72 1.47 1.35L5.41 20z\"/>\n",
              "  </svg>\n",
              "      </button>\n",
              "      \n",
              "  <style>\n",
              "    .colab-df-container {\n",
              "      display:flex;\n",
              "      flex-wrap:wrap;\n",
              "      gap: 12px;\n",
              "    }\n",
              "\n",
              "    .colab-df-convert {\n",
              "      background-color: #E8F0FE;\n",
              "      border: none;\n",
              "      border-radius: 50%;\n",
              "      cursor: pointer;\n",
              "      display: none;\n",
              "      fill: #1967D2;\n",
              "      height: 32px;\n",
              "      padding: 0 0 0 0;\n",
              "      width: 32px;\n",
              "    }\n",
              "\n",
              "    .colab-df-convert:hover {\n",
              "      background-color: #E2EBFA;\n",
              "      box-shadow: 0px 1px 2px rgba(60, 64, 67, 0.3), 0px 1px 3px 1px rgba(60, 64, 67, 0.15);\n",
              "      fill: #174EA6;\n",
              "    }\n",
              "\n",
              "    [theme=dark] .colab-df-convert {\n",
              "      background-color: #3B4455;\n",
              "      fill: #D2E3FC;\n",
              "    }\n",
              "\n",
              "    [theme=dark] .colab-df-convert:hover {\n",
              "      background-color: #434B5C;\n",
              "      box-shadow: 0px 1px 3px 1px rgba(0, 0, 0, 0.15);\n",
              "      filter: drop-shadow(0px 1px 2px rgba(0, 0, 0, 0.3));\n",
              "      fill: #FFFFFF;\n",
              "    }\n",
              "  </style>\n",
              "\n",
              "      <script>\n",
              "        const buttonEl =\n",
              "          document.querySelector('#df-c2637666-4488-4e30-8f4d-47a2d12fbbf8 button.colab-df-convert');\n",
              "        buttonEl.style.display =\n",
              "          google.colab.kernel.accessAllowed ? 'block' : 'none';\n",
              "\n",
              "        async function convertToInteractive(key) {\n",
              "          const element = document.querySelector('#df-c2637666-4488-4e30-8f4d-47a2d12fbbf8');\n",
              "          const dataTable =\n",
              "            await google.colab.kernel.invokeFunction('convertToInteractive',\n",
              "                                                     [key], {});\n",
              "          if (!dataTable) return;\n",
              "\n",
              "          const docLinkHtml = 'Like what you see? Visit the ' +\n",
              "            '<a target=\"_blank\" href=https://colab.research.google.com/notebooks/data_table.ipynb>data table notebook</a>'\n",
              "            + ' to learn more about interactive tables.';\n",
              "          element.innerHTML = '';\n",
              "          dataTable['output_type'] = 'display_data';\n",
              "          await google.colab.output.renderOutput(dataTable, element);\n",
              "          const docLink = document.createElement('div');\n",
              "          docLink.innerHTML = docLinkHtml;\n",
              "          element.appendChild(docLink);\n",
              "        }\n",
              "      </script>\n",
              "    </div>\n",
              "  </div>\n",
              "  "
            ]
          },
          "metadata": {},
          "execution_count": 25
        }
      ],
      "source": [
        "score_df.head()\n"
      ]
    },
    {
      "cell_type": "markdown",
      "id": "db5b7a27",
      "metadata": {
        "id": "db5b7a27"
      },
      "source": [
        "### Exploring Data"
      ]
    },
    {
      "cell_type": "code",
      "execution_count": 26,
      "id": "ab4f00c0",
      "metadata": {
        "colab": {
          "base_uri": "https://localhost:8080/"
        },
        "id": "ab4f00c0",
        "outputId": "8e1b2a35-ad61-453b-cb3c-6c81cd9e9d49"
      },
      "outputs": [
        {
          "output_type": "execute_result",
          "data": {
            "text/plain": [
              "(51631, 21)"
            ]
          },
          "metadata": {},
          "execution_count": 26
        }
      ],
      "source": [
        "score_df.shape   # check shape of dataset"
      ]
    },
    {
      "cell_type": "code",
      "execution_count": 27,
      "id": "32f5b217",
      "metadata": {
        "colab": {
          "base_uri": "https://localhost:8080/"
        },
        "id": "32f5b217",
        "outputId": "a1acf539-47fa-4917-e1a5-dce8b6630187"
      },
      "outputs": [
        {
          "output_type": "stream",
          "name": "stdout",
          "text": [
            "<class 'pandas.core.frame.DataFrame'>\n",
            "RangeIndex: 51631 entries, 0 to 51630\n",
            "Data columns (total 21 columns):\n",
            " #   Column            Non-Null Count  Dtype  \n",
            "---  ------            --------------  -----  \n",
            " 0   match_id          51631 non-null  int64  \n",
            " 1   inning            51631 non-null  int64  \n",
            " 2   batting_team      51631 non-null  object \n",
            " 3   bowling_team      51631 non-null  object \n",
            " 4   over              51631 non-null  int64  \n",
            " 5   ball              51631 non-null  int64  \n",
            " 6   batsman           51631 non-null  object \n",
            " 7   non_striker       51631 non-null  object \n",
            " 8   bowler            51630 non-null  object \n",
            " 9   is_super_over     51630 non-null  float64\n",
            " 10  wide_runs         51630 non-null  float64\n",
            " 11  bye_runs          51630 non-null  float64\n",
            " 12  legbye_runs       51630 non-null  float64\n",
            " 13  noball_runs       51630 non-null  float64\n",
            " 14  penalty_runs      51630 non-null  float64\n",
            " 15  batsman_runs      51630 non-null  float64\n",
            " 16  extra_runs        51630 non-null  float64\n",
            " 17  total_runs        51630 non-null  float64\n",
            " 18  player_dismissed  2632 non-null   object \n",
            " 19  dismissal_kind    2632 non-null   object \n",
            " 20  fielder           1898 non-null   object \n",
            "dtypes: float64(9), int64(4), object(8)\n",
            "memory usage: 8.3+ MB\n"
          ]
        }
      ],
      "source": [
        "score_df.info()  # get summaries of dataset"
      ]
    },
    {
      "cell_type": "code",
      "execution_count": 28,
      "id": "9422b42c",
      "metadata": {
        "colab": {
          "base_uri": "https://localhost:8080/",
          "height": 364
        },
        "id": "9422b42c",
        "outputId": "7bd462d1-323c-4afa-c49b-727eb26b44d9"
      },
      "outputs": [
        {
          "output_type": "execute_result",
          "data": {
            "text/plain": [
              "           match_id        inning          over          ball  is_super_over  \\\n",
              "count  51631.000000  51631.000000  51631.000000  51631.000000   51630.000000   \n",
              "mean     110.286708      1.480467     10.105382      3.626600       0.000639   \n",
              "std       63.263997      0.502137      5.673384      1.815584       0.025274   \n",
              "min        1.000000      1.000000      1.000000      1.000000       0.000000   \n",
              "25%       55.000000      1.000000      5.000000      2.000000       0.000000   \n",
              "50%      111.000000      1.000000     10.000000      4.000000       0.000000   \n",
              "75%      165.000000      2.000000     15.000000      5.000000       0.000000   \n",
              "max      218.000000      4.000000     20.000000      9.000000       1.000000   \n",
              "\n",
              "          wide_runs      bye_runs   legbye_runs   noball_runs  penalty_runs  \\\n",
              "count  51630.000000  51630.000000  51630.000000  51630.000000  51630.000000   \n",
              "mean       0.040035      0.005191      0.023339      0.004978      0.000097   \n",
              "std        0.263409      0.114984      0.204488      0.078939      0.022005   \n",
              "min        0.000000      0.000000      0.000000      0.000000      0.000000   \n",
              "25%        0.000000      0.000000      0.000000      0.000000      0.000000   \n",
              "50%        0.000000      0.000000      0.000000      0.000000      0.000000   \n",
              "75%        0.000000      0.000000      0.000000      0.000000      0.000000   \n",
              "max        5.000000      4.000000      5.000000      5.000000      5.000000   \n",
              "\n",
              "       batsman_runs    extra_runs    total_runs  \n",
              "count  51630.000000  51630.000000  51630.000000  \n",
              "mean       1.229905      0.073639      1.303544  \n",
              "std        1.605757      0.357649      1.593137  \n",
              "min        0.000000      0.000000      0.000000  \n",
              "25%        0.000000      0.000000      0.000000  \n",
              "50%        1.000000      0.000000      1.000000  \n",
              "75%        1.000000      0.000000      1.000000  \n",
              "max        6.000000      5.000000      7.000000  "
            ],
            "text/html": [
              "\n",
              "  <div id=\"df-2b72e053-f075-4af0-919b-2f0cb0d1daa7\">\n",
              "    <div class=\"colab-df-container\">\n",
              "      <div>\n",
              "<style scoped>\n",
              "    .dataframe tbody tr th:only-of-type {\n",
              "        vertical-align: middle;\n",
              "    }\n",
              "\n",
              "    .dataframe tbody tr th {\n",
              "        vertical-align: top;\n",
              "    }\n",
              "\n",
              "    .dataframe thead th {\n",
              "        text-align: right;\n",
              "    }\n",
              "</style>\n",
              "<table border=\"1\" class=\"dataframe\">\n",
              "  <thead>\n",
              "    <tr style=\"text-align: right;\">\n",
              "      <th></th>\n",
              "      <th>match_id</th>\n",
              "      <th>inning</th>\n",
              "      <th>over</th>\n",
              "      <th>ball</th>\n",
              "      <th>is_super_over</th>\n",
              "      <th>wide_runs</th>\n",
              "      <th>bye_runs</th>\n",
              "      <th>legbye_runs</th>\n",
              "      <th>noball_runs</th>\n",
              "      <th>penalty_runs</th>\n",
              "      <th>batsman_runs</th>\n",
              "      <th>extra_runs</th>\n",
              "      <th>total_runs</th>\n",
              "    </tr>\n",
              "  </thead>\n",
              "  <tbody>\n",
              "    <tr>\n",
              "      <th>count</th>\n",
              "      <td>51631.000000</td>\n",
              "      <td>51631.000000</td>\n",
              "      <td>51631.000000</td>\n",
              "      <td>51631.000000</td>\n",
              "      <td>51630.000000</td>\n",
              "      <td>51630.000000</td>\n",
              "      <td>51630.000000</td>\n",
              "      <td>51630.000000</td>\n",
              "      <td>51630.000000</td>\n",
              "      <td>51630.000000</td>\n",
              "      <td>51630.000000</td>\n",
              "      <td>51630.000000</td>\n",
              "      <td>51630.000000</td>\n",
              "    </tr>\n",
              "    <tr>\n",
              "      <th>mean</th>\n",
              "      <td>110.286708</td>\n",
              "      <td>1.480467</td>\n",
              "      <td>10.105382</td>\n",
              "      <td>3.626600</td>\n",
              "      <td>0.000639</td>\n",
              "      <td>0.040035</td>\n",
              "      <td>0.005191</td>\n",
              "      <td>0.023339</td>\n",
              "      <td>0.004978</td>\n",
              "      <td>0.000097</td>\n",
              "      <td>1.229905</td>\n",
              "      <td>0.073639</td>\n",
              "      <td>1.303544</td>\n",
              "    </tr>\n",
              "    <tr>\n",
              "      <th>std</th>\n",
              "      <td>63.263997</td>\n",
              "      <td>0.502137</td>\n",
              "      <td>5.673384</td>\n",
              "      <td>1.815584</td>\n",
              "      <td>0.025274</td>\n",
              "      <td>0.263409</td>\n",
              "      <td>0.114984</td>\n",
              "      <td>0.204488</td>\n",
              "      <td>0.078939</td>\n",
              "      <td>0.022005</td>\n",
              "      <td>1.605757</td>\n",
              "      <td>0.357649</td>\n",
              "      <td>1.593137</td>\n",
              "    </tr>\n",
              "    <tr>\n",
              "      <th>min</th>\n",
              "      <td>1.000000</td>\n",
              "      <td>1.000000</td>\n",
              "      <td>1.000000</td>\n",
              "      <td>1.000000</td>\n",
              "      <td>0.000000</td>\n",
              "      <td>0.000000</td>\n",
              "      <td>0.000000</td>\n",
              "      <td>0.000000</td>\n",
              "      <td>0.000000</td>\n",
              "      <td>0.000000</td>\n",
              "      <td>0.000000</td>\n",
              "      <td>0.000000</td>\n",
              "      <td>0.000000</td>\n",
              "    </tr>\n",
              "    <tr>\n",
              "      <th>25%</th>\n",
              "      <td>55.000000</td>\n",
              "      <td>1.000000</td>\n",
              "      <td>5.000000</td>\n",
              "      <td>2.000000</td>\n",
              "      <td>0.000000</td>\n",
              "      <td>0.000000</td>\n",
              "      <td>0.000000</td>\n",
              "      <td>0.000000</td>\n",
              "      <td>0.000000</td>\n",
              "      <td>0.000000</td>\n",
              "      <td>0.000000</td>\n",
              "      <td>0.000000</td>\n",
              "      <td>0.000000</td>\n",
              "    </tr>\n",
              "    <tr>\n",
              "      <th>50%</th>\n",
              "      <td>111.000000</td>\n",
              "      <td>1.000000</td>\n",
              "      <td>10.000000</td>\n",
              "      <td>4.000000</td>\n",
              "      <td>0.000000</td>\n",
              "      <td>0.000000</td>\n",
              "      <td>0.000000</td>\n",
              "      <td>0.000000</td>\n",
              "      <td>0.000000</td>\n",
              "      <td>0.000000</td>\n",
              "      <td>1.000000</td>\n",
              "      <td>0.000000</td>\n",
              "      <td>1.000000</td>\n",
              "    </tr>\n",
              "    <tr>\n",
              "      <th>75%</th>\n",
              "      <td>165.000000</td>\n",
              "      <td>2.000000</td>\n",
              "      <td>15.000000</td>\n",
              "      <td>5.000000</td>\n",
              "      <td>0.000000</td>\n",
              "      <td>0.000000</td>\n",
              "      <td>0.000000</td>\n",
              "      <td>0.000000</td>\n",
              "      <td>0.000000</td>\n",
              "      <td>0.000000</td>\n",
              "      <td>1.000000</td>\n",
              "      <td>0.000000</td>\n",
              "      <td>1.000000</td>\n",
              "    </tr>\n",
              "    <tr>\n",
              "      <th>max</th>\n",
              "      <td>218.000000</td>\n",
              "      <td>4.000000</td>\n",
              "      <td>20.000000</td>\n",
              "      <td>9.000000</td>\n",
              "      <td>1.000000</td>\n",
              "      <td>5.000000</td>\n",
              "      <td>4.000000</td>\n",
              "      <td>5.000000</td>\n",
              "      <td>5.000000</td>\n",
              "      <td>5.000000</td>\n",
              "      <td>6.000000</td>\n",
              "      <td>5.000000</td>\n",
              "      <td>7.000000</td>\n",
              "    </tr>\n",
              "  </tbody>\n",
              "</table>\n",
              "</div>\n",
              "      <button class=\"colab-df-convert\" onclick=\"convertToInteractive('df-2b72e053-f075-4af0-919b-2f0cb0d1daa7')\"\n",
              "              title=\"Convert this dataframe to an interactive table.\"\n",
              "              style=\"display:none;\">\n",
              "        \n",
              "  <svg xmlns=\"http://www.w3.org/2000/svg\" height=\"24px\"viewBox=\"0 0 24 24\"\n",
              "       width=\"24px\">\n",
              "    <path d=\"M0 0h24v24H0V0z\" fill=\"none\"/>\n",
              "    <path d=\"M18.56 5.44l.94 2.06.94-2.06 2.06-.94-2.06-.94-.94-2.06-.94 2.06-2.06.94zm-11 1L8.5 8.5l.94-2.06 2.06-.94-2.06-.94L8.5 2.5l-.94 2.06-2.06.94zm10 10l.94 2.06.94-2.06 2.06-.94-2.06-.94-.94-2.06-.94 2.06-2.06.94z\"/><path d=\"M17.41 7.96l-1.37-1.37c-.4-.4-.92-.59-1.43-.59-.52 0-1.04.2-1.43.59L10.3 9.45l-7.72 7.72c-.78.78-.78 2.05 0 2.83L4 21.41c.39.39.9.59 1.41.59.51 0 1.02-.2 1.41-.59l7.78-7.78 2.81-2.81c.8-.78.8-2.07 0-2.86zM5.41 20L4 18.59l7.72-7.72 1.47 1.35L5.41 20z\"/>\n",
              "  </svg>\n",
              "      </button>\n",
              "      \n",
              "  <style>\n",
              "    .colab-df-container {\n",
              "      display:flex;\n",
              "      flex-wrap:wrap;\n",
              "      gap: 12px;\n",
              "    }\n",
              "\n",
              "    .colab-df-convert {\n",
              "      background-color: #E8F0FE;\n",
              "      border: none;\n",
              "      border-radius: 50%;\n",
              "      cursor: pointer;\n",
              "      display: none;\n",
              "      fill: #1967D2;\n",
              "      height: 32px;\n",
              "      padding: 0 0 0 0;\n",
              "      width: 32px;\n",
              "    }\n",
              "\n",
              "    .colab-df-convert:hover {\n",
              "      background-color: #E2EBFA;\n",
              "      box-shadow: 0px 1px 2px rgba(60, 64, 67, 0.3), 0px 1px 3px 1px rgba(60, 64, 67, 0.15);\n",
              "      fill: #174EA6;\n",
              "    }\n",
              "\n",
              "    [theme=dark] .colab-df-convert {\n",
              "      background-color: #3B4455;\n",
              "      fill: #D2E3FC;\n",
              "    }\n",
              "\n",
              "    [theme=dark] .colab-df-convert:hover {\n",
              "      background-color: #434B5C;\n",
              "      box-shadow: 0px 1px 3px 1px rgba(0, 0, 0, 0.15);\n",
              "      filter: drop-shadow(0px 1px 2px rgba(0, 0, 0, 0.3));\n",
              "      fill: #FFFFFF;\n",
              "    }\n",
              "  </style>\n",
              "\n",
              "      <script>\n",
              "        const buttonEl =\n",
              "          document.querySelector('#df-2b72e053-f075-4af0-919b-2f0cb0d1daa7 button.colab-df-convert');\n",
              "        buttonEl.style.display =\n",
              "          google.colab.kernel.accessAllowed ? 'block' : 'none';\n",
              "\n",
              "        async function convertToInteractive(key) {\n",
              "          const element = document.querySelector('#df-2b72e053-f075-4af0-919b-2f0cb0d1daa7');\n",
              "          const dataTable =\n",
              "            await google.colab.kernel.invokeFunction('convertToInteractive',\n",
              "                                                     [key], {});\n",
              "          if (!dataTable) return;\n",
              "\n",
              "          const docLinkHtml = 'Like what you see? Visit the ' +\n",
              "            '<a target=\"_blank\" href=https://colab.research.google.com/notebooks/data_table.ipynb>data table notebook</a>'\n",
              "            + ' to learn more about interactive tables.';\n",
              "          element.innerHTML = '';\n",
              "          dataTable['output_type'] = 'display_data';\n",
              "          await google.colab.output.renderOutput(dataTable, element);\n",
              "          const docLink = document.createElement('div');\n",
              "          docLink.innerHTML = docLinkHtml;\n",
              "          element.appendChild(docLink);\n",
              "        }\n",
              "      </script>\n",
              "    </div>\n",
              "  </div>\n",
              "  "
            ]
          },
          "metadata": {},
          "execution_count": 28
        }
      ],
      "source": [
        "score_df.describe()  # get statistical summaries of dataset"
      ]
    },
    {
      "cell_type": "markdown",
      "id": "e585819b",
      "metadata": {
        "id": "e585819b"
      },
      "source": [
        "## Exploratory data analysis "
      ]
    },
    {
      "cell_type": "markdown",
      "id": "7767f40f",
      "metadata": {
        "id": "7767f40f"
      },
      "source": [
        "### Batsman Analysis"
      ]
    },
    {
      "cell_type": "markdown",
      "id": "0e47477c",
      "metadata": {
        "id": "0e47477c"
      },
      "source": [
        "Let us start our analysis with batsman. Let us first see the ones with most number of IPL runs under their belt."
      ]
    },
    {
      "cell_type": "code",
      "execution_count": 29,
      "id": "674da602",
      "metadata": {
        "id": "674da602"
      },
      "outputs": [],
      "source": [
        "# create a function for labeling #\n",
        "def autolabel(rects):\n",
        "    for rect in rects:\n",
        "        height = rect.get_height()\n",
        "        ax.text(rect.get_x() + rect.get_width()/2., 1.02*height,\n",
        "                '%d' % int(height),\n",
        "                ha='center', va='bottom')"
      ]
    },
    {
      "cell_type": "code",
      "execution_count": 30,
      "id": "b0c5f362",
      "metadata": {
        "colab": {
          "base_uri": "https://localhost:8080/",
          "height": 607
        },
        "id": "b0c5f362",
        "outputId": "9a4f0697-fb01-4f4c-b5d2-d6955dac6a99"
      },
      "outputs": [
        {
          "output_type": "display_data",
          "data": {
            "text/plain": [
              "<Figure size 864x648 with 1 Axes>"
            ],
            "image/png": "[encoded data removed]"
          },
          "metadata": {
            "needs_background": "light"
          }
        }
      ],
      "source": [
        "temp_df = score_df.groupby('batsman')['batsman_runs'].agg('sum').reset_index().sort_values(by='batsman_runs', ascending=False).reset_index(drop=True)\n",
        "temp_df = temp_df.iloc[:10,:]\n",
        "\n",
        "labels = np.array(temp_df['batsman'])      # name of players\n",
        "ind = np.arange(len(labels))               #index\n",
        "width = 0.5\n",
        "fig, ax = plt.subplots(figsize=(12,9))\n",
        "rects = ax.bar(ind, np.array(temp_df['batsman_runs']), width=width, color='orange')\n",
        "\n",
        "ax.set_xticks(ind+((width)/20))\n",
        "ax.set_xticklabels(labels, rotation=90)\n",
        "ax.set_ylabel(\"Count\", fontsize = 12)\n",
        "ax.set_title(\"Top run scorers in IPL\", fontsize = 15)\n",
        "autolabel(rects)\n",
        "plt.show()"
      ]
    },
    {
      "cell_type": "markdown",
      "id": "dd9324b5",
      "metadata": {
        "id": "dd9324b5"
      },
      "source": [
        "SK Raina is leading the chart followed closely by G Gambhir. AC Gilchrist is the top scorer among foreign players."
      ]
    },
    {
      "cell_type": "markdown",
      "id": "051db6ea",
      "metadata": {
        "id": "051db6ea"
      },
      "source": [
        "* **Now let us see the players with more number of boundaries in IPL.**"
      ]
    },
    {
      "cell_type": "code",
      "execution_count": 31,
      "id": "7836d5b6",
      "metadata": {
        "colab": {
          "base_uri": "https://localhost:8080/",
          "height": 501
        },
        "id": "7836d5b6",
        "outputId": "52b33b64-2ec3-44ea-f7ef-f401ef04f431"
      },
      "outputs": [
        {
          "output_type": "display_data",
          "data": {
            "text/plain": [
              "<Figure size 720x504 with 1 Axes>"
            ],
            "image/png": "[encoded data removed]"
          },
          "metadata": {
            "needs_background": "light"
          }
        }
      ],
      "source": [
        "temp_df = score_df.groupby('batsman')['batsman_runs'].agg(lambda x: (x==4).sum()).reset_index().sort_values(by='batsman_runs', ascending=False).reset_index(drop=True)\n",
        "temp_df = temp_df.iloc[:10,:]\n",
        "\n",
        "labels = np.array(temp_df['batsman'])\n",
        "ind = np.arange(len(labels))\n",
        "width = 0.7\n",
        "fig, ax = plt.subplots(figsize=(10,7))\n",
        "rects = ax.bar(ind, np.array(temp_df['batsman_runs']), width=width, color='cyan')\n",
        "ax.set_xticks(ind+((width)/20))\n",
        "ax.set_xticklabels(labels, rotation=90)\n",
        "ax.set_ylabel(\"Count\", fontsize=15)\n",
        "ax.set_title(\"Batsman with most number of boundaries.!\", fontsize=15)\n",
        "autolabel(rects)\n",
        "plt.show()"
      ]
    },
    {
      "cell_type": "markdown",
      "id": "41579837",
      "metadata": {
        "id": "41579837"
      },
      "source": [
        "**C Gambhir** is way ahead of others."
      ]
    },
    {
      "cell_type": "markdown",
      "id": "aced98ff",
      "metadata": {
        "id": "aced98ff"
      },
      "source": [
        "* **Now let us check the number of 6's**"
      ]
    },
    {
      "cell_type": "code",
      "execution_count": 32,
      "id": "c902b893",
      "metadata": {
        "colab": {
          "base_uri": "https://localhost:8080/",
          "height": 576
        },
        "id": "c902b893",
        "outputId": "fa347da2-a49a-4aa0-9a7a-62462a34bf2c"
      },
      "outputs": [
        {
          "output_type": "display_data",
          "data": {
            "text/plain": [
              "<Figure size 1080x576 with 1 Axes>"
            ],
            "image/png": "[encoded data removed]"
          },
          "metadata": {
            "needs_background": "light"
          }
        }
      ],
      "source": [
        "\n",
        "temp_df = score_df.groupby('batsman')['batsman_runs'].agg(lambda x: (x==6).sum()).reset_index().sort_values(by='batsman_runs', ascending=False).reset_index(drop=True)\n",
        "temp_df = temp_df.iloc[:10,:]\n",
        "\n",
        "labels = np.array(temp_df['batsman'])\n",
        "ind = np.arange(len(labels))\n",
        "width = 0.7\n",
        "fig, ax = plt.subplots(figsize=(15,8))\n",
        "rects = ax.bar(ind, np.array(temp_df['batsman_runs']), width=width, color='m')\n",
        "ax.set_xticks(ind+((width)/20.))\n",
        "ax.set_xticklabels(labels, rotation=90)\n",
        "ax.set_ylabel(\"Count\", fontsize= 15)\n",
        "ax.set_title(\"Batsman with most number of sixes.!\", fontsize= 15)\n",
        "ax.set_xlabel('Batsman Name', fontsize= 15)\n",
        "autolabel(rects)\n",
        "plt.show()"
      ]
    },
    {
      "cell_type": "markdown",
      "id": "e21b8f96",
      "metadata": {
        "id": "e21b8f96"
      },
      "source": [
        "**YK Pathan** is a leder in sixes "
      ]
    },
    {
      "cell_type": "markdown",
      "id": "86314168",
      "metadata": {
        "id": "86314168"
      },
      "source": [
        "* **Now let us see the batsman who has played the most number of dot balls.**"
      ]
    },
    {
      "cell_type": "code",
      "execution_count": 33,
      "id": "2133aaf5",
      "metadata": {
        "colab": {
          "base_uri": "https://localhost:8080/",
          "height": 498
        },
        "id": "2133aaf5",
        "outputId": "81fd199d-97d0-4761-d5d2-3fd01824a11e"
      },
      "outputs": [
        {
          "output_type": "display_data",
          "data": {
            "text/plain": [
              "<Figure size 720x504 with 1 Axes>"
            ],
            "image/png": "[encoded data removed]"
          },
          "metadata": {
            "needs_background": "light"
          }
        }
      ],
      "source": [
        "temp_df = score_df.groupby('batsman')['batsman_runs'].agg(lambda x: (x==0).sum()).reset_index().sort_values(by='batsman_runs', ascending=False).reset_index(drop=True)\n",
        "temp_df = temp_df.iloc[:10,:]\n",
        "\n",
        "labels = np.array(temp_df['batsman'])\n",
        "ind = np.arange(len(labels))\n",
        "width = 0.7\n",
        "fig, ax = plt.subplots(figsize=(10,7))\n",
        "rects = ax.bar(ind, np.array(temp_df['batsman_runs']), width=width, color='c')\n",
        "ax.set_xticks(ind+((width)/20.))\n",
        "ax.set_xticklabels(labels, rotation=90)\n",
        "ax.set_ylabel(\"Count\", fontsize = 15)\n",
        "ax.set_title(\"Batsman with most number of dot balls.!\", fontsize = 15)\n",
        "autolabel(rects)\n",
        "plt.show()"
      ]
    },
    {
      "cell_type": "markdown",
      "id": "ad38eda4",
      "metadata": {
        "id": "ad38eda4"
      },
      "source": [
        "Above plot shows Top 10 players who played more balls."
      ]
    },
    {
      "cell_type": "markdown",
      "id": "7eeb54d4",
      "metadata": {
        "id": "7eeb54d4"
      },
      "source": [
        "### Bowler Analysis:"
      ]
    },
    {
      "cell_type": "markdown",
      "id": "7fe5c9bf",
      "metadata": {
        "id": "7fe5c9bf"
      },
      "source": [
        "* **Now let us see the bowlers who has bowled most number of balls in IPL.**"
      ]
    },
    {
      "cell_type": "code",
      "execution_count": 34,
      "id": "40853208",
      "metadata": {
        "colab": {
          "base_uri": "https://localhost:8080/",
          "height": 512
        },
        "id": "40853208",
        "outputId": "a5fe024c-8fc2-4a49-9892-b1ac9f9ec5c2"
      },
      "outputs": [
        {
          "output_type": "display_data",
          "data": {
            "text/plain": [
              "<Figure size 720x504 with 1 Axes>"
            ],
            "image/png": "[encoded data removed]"
          },
          "metadata": {
            "needs_background": "light"
          }
        }
      ],
      "source": [
        "temp_df = score_df.groupby('bowler')['ball'].agg('count').reset_index().sort_values(by='ball', ascending=False).reset_index(drop=True)\n",
        "temp_df = temp_df.iloc[:10,:]\n",
        "\n",
        "labels = np.array(temp_df['bowler'])\n",
        "ind = np.arange(len(labels))\n",
        "width = 0.7\n",
        "fig, ax = plt.subplots(figsize=(10,7))\n",
        "rects = ax.bar(ind, np.array(temp_df['ball']), width=width, color='cyan')\n",
        "ax.set_xticks(ind+((width)/20))\n",
        "ax.set_xticklabels(labels, rotation=90)\n",
        "ax.set_ylabel(\"Count\", fontsize=12)\n",
        "ax.set_title(\"Top Bowlers - Number of balls bowled in IPL\", fontsize=15)\n",
        "autolabel(rects)\n",
        "plt.show()"
      ]
    },
    {
      "cell_type": "markdown",
      "id": "c4211066",
      "metadata": {
        "id": "c4211066"
      },
      "source": [
        "**P Kumar** has bowled most number of balls in IPL."
      ]
    },
    {
      "cell_type": "markdown",
      "id": "3a30ae2b",
      "metadata": {
        "id": "3a30ae2b"
      },
      "source": [
        " * **Now let us see the bowler with more number of dot balls.**"
      ]
    },
    {
      "cell_type": "code",
      "execution_count": 35,
      "id": "4f01b030",
      "metadata": {
        "colab": {
          "base_uri": "https://localhost:8080/",
          "height": 512
        },
        "id": "4f01b030",
        "outputId": "081dbb55-5fd1-4ece-c81d-7d149cef275b"
      },
      "outputs": [
        {
          "output_type": "display_data",
          "data": {
            "text/plain": [
              "<Figure size 720x504 with 1 Axes>"
            ],
            "image/png": "[encoded data removed]"
          },
          "metadata": {
            "needs_background": "light"
          }
        }
      ],
      "source": [
        "temp_df = score_df.groupby('bowler')['total_runs'].agg(lambda x: (x==0).sum()).reset_index().sort_values(by='total_runs', ascending=False).reset_index(drop=True)\n",
        "temp_df = temp_df.iloc[:10,:]\n",
        "\n",
        "labels = np.array(temp_df['bowler'])\n",
        "ind = np.arange(len(labels))\n",
        "width = 0.7\n",
        "fig, ax = plt.subplots(figsize=(10,7))\n",
        "rects = ax.bar(ind, np.array(temp_df['total_runs']), width=width, color='orange')\n",
        "ax.set_xticks(ind+((width)/20))\n",
        "ax.set_xticklabels(labels, rotation='vertical')\n",
        "ax.set_ylabel(\"Count\", fontsize=12)\n",
        "ax.set_title(\"Top Bowlers - Number of dot balls bowled in IPL\", fontsize=15)\n",
        "autolabel(rects)\n",
        "plt.show()"
      ]
    },
    {
      "cell_type": "markdown",
      "id": "c69f84b5",
      "metadata": {
        "id": "c69f84b5"
      },
      "source": [
        "**M Muralitharan** has bowled most number of Dot balls in IPL."
      ]
    },
    {
      "cell_type": "markdown",
      "id": "64a3eda7",
      "metadata": {
        "id": "64a3eda7"
      },
      "source": [
        "* **Let us see the bowlers who has bowled more number of extras in IPL.**"
      ]
    },
    {
      "cell_type": "code",
      "execution_count": 36,
      "id": "b27e7c0f",
      "metadata": {
        "colab": {
          "base_uri": "https://localhost:8080/",
          "height": 512
        },
        "id": "b27e7c0f",
        "outputId": "171f8b41-6eed-4063-ce92-5244bcaf6bab"
      },
      "outputs": [
        {
          "output_type": "display_data",
          "data": {
            "text/plain": [
              "<Figure size 720x504 with 1 Axes>"
            ],
            "image/png": "[encoded data removed]"
          },
          "metadata": {
            "needs_background": "light"
          }
        }
      ],
      "source": [
        "temp_df = score_df.groupby('bowler')['extra_runs'].agg(lambda x: (x>0).sum()).reset_index().sort_values(by='extra_runs', ascending=False).reset_index(drop=True)\n",
        "temp_df = temp_df.iloc[:10,:]\n",
        "\n",
        "labels = np.array(temp_df['bowler'])\n",
        "ind = np.arange(len(labels))\n",
        "width = 0.7\n",
        "fig, ax = plt.subplots(figsize=(10,7))\n",
        "rects = ax.bar(ind, np.array(temp_df['extra_runs']), width=width, color='magenta')\n",
        "ax.set_xticks(ind+((width)/20))\n",
        "ax.set_xticklabels(labels, rotation='vertical')\n",
        "ax.set_ylabel(\"Count\",fontsize=12)\n",
        "ax.set_title(\"Bowlers with more extras in IPL\", fontsize=15)\n",
        "autolabel(rects)\n",
        "plt.show()"
      ]
    },
    {
      "cell_type": "markdown",
      "id": "d3cdb06d",
      "metadata": {
        "id": "d3cdb06d"
      },
      "source": [
        "**SL Malinga** bowled more extras in IPL"
      ]
    },
    {
      "cell_type": "markdown",
      "id": "f0cad090",
      "metadata": {
        "id": "f0cad090"
      },
      "source": [
        "* **Let us see most common dismissal types in IPL.**\n"
      ]
    },
    {
      "cell_type": "code",
      "execution_count": 37,
      "id": "6d9bc41f",
      "metadata": {
        "colab": {
          "base_uri": "https://localhost:8080/",
          "height": 514
        },
        "id": "6d9bc41f",
        "outputId": "62990551-b419-4954-9e90-0f295d6b6bf8"
      },
      "outputs": [
        {
          "output_type": "display_data",
          "data": {
            "text/plain": [
              "<Figure size 864x432 with 1 Axes>"
            ],
            "image/png": "[encoded data removed]"
          },
          "metadata": {
            "needs_background": "light"
          }
        }
      ],
      "source": [
        "plt.figure(figsize=(12,6))\n",
        "sns.countplot(x='dismissal_kind', data=score_df)\n",
        "plt.xticks(rotation='vertical', fontsize=12)\n",
        "plt.xlabel(\"Kind of Dismissal\", fontsize= 12)\n",
        "plt.ylabel(\"Count\", fontsize=12)\n",
        "plt.title(\"Most common dismissal kind\", fontsize = 15)\n",
        "plt.show()"
      ]
    },
    {
      "cell_type": "markdown",
      "id": "be02a2fd",
      "metadata": {
        "id": "be02a2fd"
      },
      "source": [
        "**Caught** is the most common dismissal type in IPL followed by **Bowled**. There are very few instances of hit wicket as well. 'Obstructing the field' is one of the dismissal type as well in IPL."
      ]
    },
    {
      "cell_type": "markdown",
      "id": "6cb872f5",
      "metadata": {
        "id": "6cb872f5"
      },
      "source": [
        "### Some Findings from Matches dataset\n",
        "\n",
        "* **Mumbai Indians** plays the highest amount of matches and has won more seasons than the other teams.\n",
        "* **Chennai Super Kings** ranked the second highest in winning matches followed by **Kolkata Knight Riders**.\n",
        "* **Eden Gardens** hosts the highest number of matches followed by **M Chinnaswamy Stadium** and **Wankhede Stadium**.\n",
        "* **CH Gayle** won the most MVP awards in Indian Premier League"
      ]
    }
  ],
  "metadata": {
    "kernelspec": {
      "display_name": "Python 3",
      "language": "python",
      "name": "python3"
    },
    "language_info": {
      "codemirror_mode": {
        "name": "ipython",
        "version": 3
      },
      "file_extension": ".py",
      "mimetype": "text/x-python",
      "name": "python",
      "nbconvert_exporter": "python",
      "pygments_lexer": "ipython3",
      "version": "3.8.8"
    },
    "colab": {
      "name": " Task-5 Exploratory Data Analysis - Sports.ipynb",
      "provenance": [],
      "collapsed_sections": [
        "6cb872f5"
      ]
    }
  },
  "nbformat": 4,
  "nbformat_minor": 5
}